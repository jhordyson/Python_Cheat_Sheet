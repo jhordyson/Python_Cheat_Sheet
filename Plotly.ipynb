{
 "cells": [
  {
   "cell_type": "markdown",
   "id": "290e071e-4a29-4787-9915-96ac42a34594",
   "metadata": {},
   "source": [
    "# Working with plotly library"
   ]
  },
  {
   "cell_type": "markdown",
   "id": "f13e1992-dc33-4066-8992-35ec0b54a1d4",
   "metadata": {},
   "source": [
    "### 1. To create a line chart"
   ]
  },
  {
   "cell_type": "code",
   "execution_count": null,
   "id": "fdc8f5e1-0c12-49b9-9799-e8e5339ec792",
   "metadata": {},
   "outputs": [],
   "source": [
    "import plotly.graph_objs as go\n",
    "import plotly.io as pio\n",
    "x = [1, 2, 3, 4, 5]\n",
    "y = [1, 4, 9, 16, 25]\n",
    "fig = go.Figure(data=go.Scatter(x=x, y=y, mode='lines'))\n",
    "pio.show(fig)"
   ]
  },
  {
   "cell_type": "markdown",
   "id": "9ee84813-3aa4-4648-b253-199d2869df2e",
   "metadata": {},
   "source": [
    "### 2. To create a scatter plot"
   ]
  },
  {
   "cell_type": "code",
   "execution_count": null,
   "id": "58fa6862-e6de-4025-8ff9-c19fdf99df40",
   "metadata": {},
   "outputs": [],
   "source": [
    "fig = go.Figure(data=go.Scatter(x=x, y=y, mode='markers'))\n",
    "pio.show(fig"
   ]
  },
  {
   "cell_type": "markdown",
   "id": "3fa8048a-2828-4bde-bc3a-cab8f506a7ba",
   "metadata": {},
   "source": [
    "### 3. To create a bar chart"
   ]
  },
  {
   "cell_type": "code",
   "execution_count": null,
   "id": "c9823b2f-7bf0-41cb-b9ea-15559c0fcdd9",
   "metadata": {},
   "outputs": [],
   "source": [
    "categories = ['A', 'B', 'C', 'D', 'E']\n",
    "values = [10, 20, 15, 30, 25]\n",
    "fig = go.Figure(data=go.Bar(x=categories, y=values))\n",
    "pio.show(fig)"
   ]
  },
  {
   "cell_type": "markdown",
   "id": "b213187f-b50d-44e9-b9c9-903632949e72",
   "metadata": {},
   "source": [
    "### 4. To create a pie chart"
   ]
  },
  {
   "cell_type": "code",
   "execution_count": null,
   "id": "d85ed6b9-726c-4618-bf40-8edef99717db",
   "metadata": {},
   "outputs": [],
   "source": [
    "labels = ['Earth', 'Water', 'Fire', 'Air']\n",
    "sizes = [25, 35, 20, 20]\n",
    "fig = go.Figure(data=go.Pie(labels=labels, values=sizes))\n",
    "pio.show(fig)"
   ]
  },
  {
   "cell_type": "markdown",
   "id": "53ce0186-c682-44cc-82fd-6db19a239070",
   "metadata": {},
   "source": [
    "### 5. To create a histogram"
   ]
  },
  {
   "cell_type": "code",
   "execution_count": null,
   "id": "681d3b2a-79a7-4673-a126-0516a0b8fb2b",
   "metadata": {},
   "outputs": [],
   "source": [
    "data = [1, 2, 2, 3, 3, 3, 4, 4, 4, 4]\n",
    "fig = go.Figure(data=go.Histogram(x=data))\n",
    "pio.show(fig)"
   ]
  },
  {
   "cell_type": "markdown",
   "id": "a59c9782-4f08-4fcc-8d76-0c7265b5c0d6",
   "metadata": {},
   "source": [
    "### 6. To create a box plot"
   ]
  },
  {
   "cell_type": "code",
   "execution_count": null,
   "id": "52c96951-7470-45df-8018-238acce70dd4",
   "metadata": {},
   "outputs": [],
   "source": [
    "data = [1, 2, 2, 3, 4, 4, 4, 5, 5, 6]\n",
    "fig = go.Figure(data=go.Box(y=data))\n",
    "pio.show(fig)"
   ]
  },
  {
   "cell_type": "markdown",
   "id": "6f430592-831c-4c69-84ba-031548595833",
   "metadata": {},
   "source": [
    "### 7. To create a heatmap"
   ]
  },
  {
   "cell_type": "code",
   "execution_count": null,
   "id": "1bd8d632-9258-4033-820f-a0fc54690a2c",
   "metadata": {},
   "outputs": [],
   "source": [
    "import numpy as np\n",
    "z = np.random.rand(10, 10)  # generate random data\n",
    "fig = go.Figure(data=go.Heatmap(z=z))\n",
    "pio.show(fig)"
   ]
  },
  {
   "cell_type": "markdown",
   "id": "2590a503-c4ca-4ca7-9629-e4e1928522de",
   "metadata": {},
   "source": [
    "### 8. To create a 3d surface plot"
   ]
  },
  {
   "cell_type": "code",
   "execution_count": null,
   "id": "1b264b33-b58f-4476-a6fd-d05370abaa6c",
   "metadata": {},
   "outputs": [],
   "source": [
    "z = np.random.rand(20, 20)  # generate random data\n",
    "fig = go.Figure(data=go.Surface(z=z))\n",
    "pio.show(fig)"
   ]
  },
  {
   "cell_type": "markdown",
   "id": "979146d4-63b1-4280-ae9b-5ff370d32aa2",
   "metadata": {},
   "source": [
    "### 9. To create a subplot"
   ]
  },
  {
   "cell_type": "code",
   "execution_count": null,
   "id": "3eaf85b1-20cb-45fa-992d-5df74bc8752e",
   "metadata": {},
   "outputs": [],
   "source": [
    "from plotly.subplots import make_subplots\n",
    "fig = make_subplots(rows=1, cols=2)\n",
    "fig.add_trace(go.Scatter(x=x, y=y, mode='lines'), row=1, col=1)\n",
    "fig.add_trace(go.Bar(x=categories, y=values), row=1, col=2)\n",
    "pio.show(fig)"
   ]
  },
  {
   "cell_type": "markdown",
   "id": "ec56bbb8-df3f-49e5-9776-ba017c108490",
   "metadata": {},
   "source": [
    "### 10. To work with time series"
   ]
  },
  {
   "cell_type": "code",
   "execution_count": null,
   "id": "8f3aa78f-2186-498b-a974-6570fda10611",
   "metadata": {},
   "outputs": [],
   "source": [
    "import pandas as pd\n",
    "dates = pd.date_range('20230101', periods=5)\n",
    "values = [10, 11, 12, 13, 14]\n",
    "fig = go.Figure(data=go.Scatter(x=dates, y=values, mode='lines+markers'))\n",
    "pio.show(fig)"
   ]
  }
 ],
 "metadata": {
  "kernelspec": {
   "display_name": "Python 3 (ipykernel)",
   "language": "python",
   "name": "python3"
  },
  "language_info": {
   "codemirror_mode": {
    "name": "ipython",
    "version": 3
   },
   "file_extension": ".py",
   "mimetype": "text/x-python",
   "name": "python",
   "nbconvert_exporter": "python",
   "pygments_lexer": "ipython3",
   "version": "3.12.0"
  }
 },
 "nbformat": 4,
 "nbformat_minor": 5
}
