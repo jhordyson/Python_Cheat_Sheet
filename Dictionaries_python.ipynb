{
 "cells": [
  {
   "cell_type": "markdown",
   "id": "02f1493d-4cc8-4fe8-bf74-6c33a8dcbbdd",
   "metadata": {},
   "source": [
    "# Working with dictionaries"
   ]
  },
  {
   "cell_type": "markdown",
   "id": "eb0d2ca4-90fd-4da6-a231-c11f63f075b3",
   "metadata": {},
   "source": [
    "### 1. To create a new dictionary"
   ]
  },
  {
   "cell_type": "code",
   "execution_count": null,
   "id": "6426c699-105b-44e0-b667-368299027f84",
   "metadata": {},
   "outputs": [],
   "source": [
    "countries = {'peru':'pe','mexico':'mx'}"
   ]
  },
  {
   "cell_type": "markdown",
   "id": "4ca0bf67-10aa-4c34-8cda-67f6b2e8e7c7",
   "metadata": {},
   "source": [
    "### 2. To add a new entry or update an existing one"
   ]
  },
  {
   "cell_type": "code",
   "execution_count": null,
   "id": "d3248206-feb0-4f2d-ac25-96b10c140593",
   "metadata": {},
   "outputs": [],
   "source": [
    "# adds 'argentina' or updates its values to 'ar'\n",
    "countries['argentina'] = 'ar'"
   ]
  },
  {
   "cell_type": "markdown",
   "id": "0b725464-62e1-4115-99aa-14092cb03e2e",
   "metadata": {},
   "source": [
    "### 3. To remove an entry from the dictionary"
   ]
  },
  {
   "cell_type": "code",
   "execution_count": null,
   "id": "9ea826a0-0b39-459c-8abe-b7f1b4dcf204",
   "metadata": {},
   "outputs": [],
   "source": [
    "# removes the key 'mexico' and its value\n",
    "del countries['mexico']"
   ]
  },
  {
   "cell_type": "markdown",
   "id": "04591af0-7b02-4364-bc3e-a236de16c220",
   "metadata": {},
   "source": [
    "### 4. To check if a key exists in the dictionary"
   ]
  },
  {
   "cell_type": "code",
   "execution_count": null,
   "id": "6d7ce500-a4da-4b66-b1cc-6d1966f28155",
   "metadata": {},
   "outputs": [],
   "source": [
    "if 'mexico' in countries:\n",
    "    print('mexico is present')"
   ]
  },
  {
   "cell_type": "markdown",
   "id": "f787a6b3-ec63-44d8-aafc-2326c0cdea69",
   "metadata": {},
   "source": [
    "### 5. To iterate over the keys in the dictionary"
   ]
  },
  {
   "cell_type": "code",
   "execution_count": null,
   "id": "bf4aeafe-9b08-46f1-9988-f2af7847d3b7",
   "metadata": {},
   "outputs": [],
   "source": [
    "for country in countries:\n",
    "    print(country) # print each key"
   ]
  },
  {
   "cell_type": "markdown",
   "id": "c7e4320f-40e4-4db8-815d-cb409ff64bba",
   "metadata": {},
   "source": [
    "### 6. To traverse through the values in the dictionary"
   ]
  },
  {
   "cell_type": "code",
   "execution_count": null,
   "id": "110e198f-418e-44f3-823c-cb98a2452ec2",
   "metadata": {},
   "outputs": [],
   "source": [
    "for abb in countries.values():\n",
    "    print(abb) # prints aech value"
   ]
  },
  {
   "cell_type": "markdown",
   "id": "12347e88-e3b2-4ae0-bf78-599c3063c44f",
   "metadata": {},
   "source": [
    "### 7. To journey through both keys and values together"
   ]
  },
  {
   "cell_type": "code",
   "execution_count": null,
   "id": "be8606ef-7703-4fc0-92e6-bc2091f93a00",
   "metadata": {},
   "outputs": [],
   "source": [
    "for country, abb in countries.items():\n",
    "    print(f'{country}:{symbol}')"
   ]
  },
  {
   "cell_type": "markdown",
   "id": "1218174e-ecce-4650-a199-c7c8dac172da",
   "metadata": {},
   "source": [
    "### 8. To create a new dictionary through an iterable"
   ]
  },
  {
   "cell_type": "code",
   "execution_count": null,
   "id": "f93a7cd2-0dc0-41f6-bd07-7674f81228b5",
   "metadata": {},
   "outputs": [],
   "source": [
    "# squares of numbers from 0 to 4\n",
    "squares = {x : x**2 frot x in range(5)}"
   ]
  },
  {
   "cell_type": "markdown",
   "id": "3ebedd19-71ec-4de8-86b3-ff8061095e30",
   "metadata": {},
   "source": [
    "### 9. To merge two or more dictionaries"
   ]
  },
  {
   "cell_type": "code",
   "execution_count": 3,
   "id": "7cea713f-6fe7-49b1-843e-db3fcfc9a1f8",
   "metadata": {},
   "outputs": [
    {
     "name": "stdout",
     "output_type": "stream",
     "text": [
      "{'x': 'one', 'y': 'two'}\n"
     ]
    }
   ],
   "source": [
    "first_dict = {'x':'one'}\n",
    "second_dict = {'y':'two'}\n",
    "merged = first_dict | second_dict\n",
    "print(merged)"
   ]
  },
  {
   "cell_type": "markdown",
   "id": "ecfc63b0-333a-432e-85f9-06e0c2fe46b5",
   "metadata": {},
   "source": [
    "### 10. To retrieve a value safely"
   ]
  },
  {
   "cell_type": "code",
   "execution_count": null,
   "id": "2c2ceb13-cdc9-443c-8d35-c5a658d2da82",
   "metadata": {},
   "outputs": [],
   "source": [
    "# returns 'qwerty' if 'pikachu' is not found\n",
    "crountry = countries.get('pikachu','qwerty')"
   ]
  }
 ],
 "metadata": {
  "kernelspec": {
   "display_name": "Python 3 (ipykernel)",
   "language": "python",
   "name": "python3"
  },
  "language_info": {
   "codemirror_mode": {
    "name": "ipython",
    "version": 3
   },
   "file_extension": ".py",
   "mimetype": "text/x-python",
   "name": "python",
   "nbconvert_exporter": "python",
   "pygments_lexer": "ipython3",
   "version": "3.12.0"
  }
 },
 "nbformat": 4,
 "nbformat_minor": 5
}
