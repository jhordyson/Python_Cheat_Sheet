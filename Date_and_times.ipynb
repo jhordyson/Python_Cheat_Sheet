{
 "cells": [
  {
   "cell_type": "markdown",
   "id": "42f0d0d9-6a47-44d8-9b0a-d51e942705c0",
   "metadata": {},
   "source": [
    "# Working with dates and times"
   ]
  },
  {
   "cell_type": "markdown",
   "id": "da59724d-3aec-44f1-8e7a-07b868e79ea2",
   "metadata": {},
   "source": [
    "### 1. To get the current date and time"
   ]
  },
  {
   "cell_type": "code",
   "execution_count": null,
   "id": "e285529d-a624-424c-abb4-418493c75708",
   "metadata": {},
   "outputs": [],
   "source": [
    "from datetime import datetime\n",
    "now = datetime.now()\n",
    "print(f\"Current date and time: {now}\")"
   ]
  },
  {
   "cell_type": "markdown",
   "id": "5dbde7e8-e1ad-44c2-8797-21a1ec72748b",
   "metadata": {},
   "source": [
    "### 2. To create specific date and time"
   ]
  },
  {
   "cell_type": "code",
   "execution_count": null,
   "id": "05d61684-7360-4b59-a815-bd2691be87b9",
   "metadata": {},
   "outputs": [],
   "source": [
    "specific_time = datetime(2023, 1, 1, 12, 30)\n",
    "print(f\"Specific date and time: {specific_time}\")"
   ]
  },
  {
   "cell_type": "markdown",
   "id": "6b8b26f9-a735-437f-9962-7b167636e0bc",
   "metadata": {},
   "source": [
    "### 3. Formating dates and times"
   ]
  },
  {
   "cell_type": "code",
   "execution_count": null,
   "id": "8bbb4cfb-a198-4fa4-92c2-761461d8ea48",
   "metadata": {},
   "outputs": [],
   "source": [
    "formatted = now.strftime(\"%Y-%m-%d %H:%M:%S\")\n",
    "print(f\"Formatted date and time: {formatted}\")"
   ]
  },
  {
   "cell_type": "markdown",
   "id": "d47f0b0f-03df-4291-8919-71dd74260c27",
   "metadata": {},
   "source": [
    "### 4. Parsings dates and times to string"
   ]
  },
  {
   "cell_type": "code",
   "execution_count": null,
   "id": "a14626d0-13a1-4f2e-bcf7-5fb5bc04c00d",
   "metadata": {},
   "outputs": [],
   "source": [
    "date_string = \"2023-01-01 15:00:00\"\n",
    "parsed_date = datetime.strptime(date_string, \"%Y-%m-%d %H:%M:%S\")\n",
    "print(f\"Parsed date and time: {parsed_date}\")"
   ]
  },
  {
   "cell_type": "markdown",
   "id": "63399c98-ff59-4def-a090-7aac3927ff70",
   "metadata": {},
   "source": [
    "### 5. To work with time deltas"
   ]
  },
  {
   "cell_type": "code",
   "execution_count": null,
   "id": "3efa1f0c-a614-4f09-b9c7-a5725239199e",
   "metadata": {},
   "outputs": [],
   "source": [
    "from datetime import timedelta\n",
    "delta = timedelta(days=7)\n",
    "future_date = now + delta\n",
    "print(f\"Date after 7 days: {future_date}\")"
   ]
  },
  {
   "cell_type": "markdown",
   "id": "03f42cf9-4d8f-47b8-af94-880adcb2bdcf",
   "metadata": {},
   "source": [
    "### 6. Compare date and time"
   ]
  },
  {
   "cell_type": "code",
   "execution_count": null,
   "id": "5f3a3ef2-03d6-466b-9402-1f5806d09fda",
   "metadata": {},
   "outputs": [],
   "source": [
    "if specific_time > now:\n",
    "    print(\"Specific time is in the future.\")\n",
    "else:\n",
    "    print(\"Specific time has passed.\")"
   ]
  },
  {
   "cell_type": "markdown",
   "id": "626eadc3-55a4-46ec-b78f-87a97f9501d2",
   "metadata": {},
   "source": [
    "### 7. To extract components from date"
   ]
  },
  {
   "cell_type": "code",
   "execution_count": null,
   "id": "a3ab3790-b3bb-4c6b-8de6-bb9bd8bb8d3c",
   "metadata": {},
   "outputs": [],
   "source": [
    "year = now.year\n",
    "month = now.month\n",
    "day = now.day\n",
    "hour = now.hour\n",
    "minute = now.minute\n",
    "second = now.second\n",
    "print(f\"Year: {year}, Month: {month}, Day: {day}, Hour: {hour}, Minute: {minute}, Second: {second}\")"
   ]
  },
  {
   "cell_type": "markdown",
   "id": "773a887f-03b5-4946-ae50-75040153f3f8",
   "metadata": {},
   "source": [
    "### 8. To work with time zones"
   ]
  },
  {
   "cell_type": "code",
   "execution_count": null,
   "id": "50c9329d-d7a3-407b-8c26-03a78612194c",
   "metadata": {},
   "outputs": [],
   "source": [
    "from datetime import timezone, timedelta\n",
    "utc_time = datetime.now(timezone.utc)\n",
    "print(f\"Current UTC time: {utc_time}\")\n",
    "# Adjusting to a specific timezone (e.g., EST)\n",
    "est_time = utc_time - timedelta(hours=5)\n",
    "print(f\"Current EST time: {est_time}\")"
   ]
  },
  {
   "cell_type": "markdown",
   "id": "4cfa527c-0c36-4818-9ca0-79eb97688046",
   "metadata": {},
   "source": [
    "### 9. To get the weekday"
   ]
  },
  {
   "cell_type": "code",
   "execution_count": null,
   "id": "f72e4bd0-0010-4cce-b6eb-a4dd95236f27",
   "metadata": {},
   "outputs": [],
   "source": [
    "weekday = now.strftime(\"%A\")\n",
    "print(f\"Today is: {weekday}\")"
   ]
  },
  {
   "cell_type": "markdown",
   "id": "fd1b9bed-ba6e-45a0-bff2-b6da22bf7da7",
   "metadata": {},
   "source": [
    "### 10. To work with unix timestamps"
   ]
  },
  {
   "cell_type": "code",
   "execution_count": null,
   "id": "ed24ddf0-18c6-4689-b039-f845edfb36a1",
   "metadata": {},
   "outputs": [],
   "source": [
    "timestamp = datetime.timestamp(now)\n",
    "print(f\"Current timestamp: {timestamp}\")\n",
    "# Converting a timestamp back to a datetime\n",
    "date_from_timestamp = datetime.fromtimestamp(timestamp)\n",
    "print(f\"Date from timestamp: {date_from_timestamp}\")"
   ]
  }
 ],
 "metadata": {
  "kernelspec": {
   "display_name": "Python 3 (ipykernel)",
   "language": "python",
   "name": "python3"
  },
  "language_info": {
   "codemirror_mode": {
    "name": "ipython",
    "version": 3
   },
   "file_extension": ".py",
   "mimetype": "text/x-python",
   "name": "python",
   "nbconvert_exporter": "python",
   "pygments_lexer": "ipython3",
   "version": "3.12.0"
  }
 },
 "nbformat": 4,
 "nbformat_minor": 5
}
