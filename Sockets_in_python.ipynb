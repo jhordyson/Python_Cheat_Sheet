{
 "cells": [
  {
   "cell_type": "markdown",
   "id": "5875ca91-740c-48d8-a98b-6ea1a6c9ec8c",
   "metadata": {},
   "source": [
    "# Working with networks, sockets and networks interfaces"
   ]
  },
  {
   "cell_type": "markdown",
   "id": "3655f9e6-2edd-4de1-9f4c-254afeee8f6e",
   "metadata": {},
   "source": [
    "### 1. To create a socket for network communication"
   ]
  },
  {
   "cell_type": "code",
   "execution_count": null,
   "id": "bf5031c5-ce80-408c-848f-04d268bf6189",
   "metadata": {},
   "outputs": [],
   "source": [
    "import socket\n",
    "s = socket.socket(socket.AF_INET, socket.SOCK_STREAM)"
   ]
  },
  {
   "cell_type": "markdown",
   "id": "4f72d169-b75c-49e8-a886-d59d7a419c63",
   "metadata": {},
   "source": [
    "### 2. To connect a remote server"
   ]
  },
  {
   "cell_type": "code",
   "execution_count": null,
   "id": "769be982-9a77-4b27-9955-00c2d04be153",
   "metadata": {},
   "outputs": [],
   "source": [
    "s.connect(('example.com', 80)) # connect to 'example.com' on port 80"
   ]
  },
  {
   "cell_type": "markdown",
   "id": "6aa9ffe1-3898-4804-a9d2-5618a57f6afb",
   "metadata": {},
   "source": [
    "### 3. To send data"
   ]
  },
  {
   "cell_type": "code",
   "execution_count": null,
   "id": "fbd6666a-140c-4b4b-8822-51886edfeef2",
   "metadata": {},
   "outputs": [],
   "source": [
    "s.sendall(b'hello, sv')"
   ]
  },
  {
   "cell_type": "markdown",
   "id": "6e111a1c-ffc1-4b18-b2ab-8497734b49dd",
   "metadata": {},
   "source": [
    "### 4. To receive data"
   ]
  },
  {
   "cell_type": "code",
   "execution_count": null,
   "id": "965471ac-40e9-4c49-b901-d0b3f7ef4cb7",
   "metadata": {},
   "outputs": [],
   "source": [
    "data = s.recv(1024) # receive up to 1024 bytes\n",
    "print('received', repr(data))"
   ]
  },
  {
   "cell_type": "markdown",
   "id": "d88928cd-bd4a-4b64-bbcf-c8898a071f60",
   "metadata": {},
   "source": [
    "### 5. To close a socket"
   ]
  },
  {
   "cell_type": "code",
   "execution_count": null,
   "id": "cd1fe538-e016-44ef-bf38-d06c09f00ee3",
   "metadata": {},
   "outputs": [],
   "source": [
    "s.close()"
   ]
  },
  {
   "cell_type": "markdown",
   "id": "f5b86471-e341-47a7-a1ca-184cfb8e02d5",
   "metadata": {},
   "source": [
    "### 6. To create a listening socket"
   ]
  },
  {
   "cell_type": "code",
   "execution_count": null,
   "id": "19d9c60f-5ee4-4e90-8440-4556d182c62a",
   "metadata": {},
   "outputs": [],
   "source": [
    "serversocket = socket.socket(socket.AF_INET, socket.SOCK_STREAM)\n",
    "serversocket.bind(('localhost', 8080))  # bind to localhost on port 8080\n",
    "serversocket.listen()  # listen for incoming connections"
   ]
  },
  {
   "cell_type": "markdown",
   "id": "d2f6cc07-ad2e-408b-95f3-4f398467a05d",
   "metadata": {},
   "source": [
    "### 7. To accept connections"
   ]
  },
  {
   "cell_type": "code",
   "execution_count": null,
   "id": "5ef47e95-644a-40d3-a2d0-0087fb618230",
   "metadata": {},
   "outputs": [],
   "source": [
    "clientsocket, address = serversocket.accept()\n",
    "print(f\"Connection from {address} has been estrablished.\")"
   ]
  },
  {
   "cell_type": "markdown",
   "id": "a08fd84a-66c0-44b3-9e66-91d0135cb1f8",
   "metadata": {},
   "source": [
    "### 8. To set a non-blocking socket operations"
   ]
  },
  {
   "cell_type": "code",
   "execution_count": null,
   "id": "949755db-493c-40a5-a47f-6149ecf93ceb",
   "metadata": {},
   "outputs": [],
   "source": [
    "s.setblocking(False)"
   ]
  },
  {
   "cell_type": "markdown",
   "id": "c41fe34b-b105-4ca1-8a88-79832e58a8ae",
   "metadata": {},
   "source": [
    "### 9. To create a socket for UDP protocol"
   ]
  },
  {
   "cell_type": "code",
   "execution_count": null,
   "id": "71b43f8e-efe1-452b-ad5f-5de9b8518f27",
   "metadata": {},
   "outputs": [],
   "source": [
    "udp_socket = socket.socket(socket.AF_INET, socket.SOCK_DGRAM)\n",
    "udp_socket.bind(('localhost', 8081))  # bind UDP socket to localhost on port 8081"
   ]
  },
  {
   "cell_type": "markdown",
   "id": "0d0a71d2-31d2-49d4-bfda-352be3a5940f",
   "metadata": {},
   "source": [
    "### 10. To discover network interfaces"
   ]
  },
  {
   "cell_type": "code",
   "execution_count": null,
   "id": "8e18f877-2bb0-4f87-a412-816c1a1b2b56",
   "metadata": {},
   "outputs": [],
   "source": [
    "import socket\n",
    "import netifaces\n",
    "for interface in netifaces.interfaces():\n",
    "    addr = netifaces.ifaddresses(interface).get(netifaces.AF_INET)\n",
    "    if addr:\n",
    "        print(f\"Interface: {interface}, Address: {addr[0]['addr']}\")"
   ]
  }
 ],
 "metadata": {
  "kernelspec": {
   "display_name": "Python 3 (ipykernel)",
   "language": "python",
   "name": "python3"
  },
  "language_info": {
   "codemirror_mode": {
    "name": "ipython",
    "version": 3
   },
   "file_extension": ".py",
   "mimetype": "text/x-python",
   "name": "python",
   "nbconvert_exporter": "python",
   "pygments_lexer": "ipython3",
   "version": "3.12.0"
  }
 },
 "nbformat": 4,
 "nbformat_minor": 5
}
