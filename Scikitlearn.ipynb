{
 "cells": [
  {
   "cell_type": "markdown",
   "id": "943a73fd-4809-4acf-9cd4-60d7916acbe3",
   "metadata": {},
   "source": [
    "# Work with scikit-learn"
   ]
  },
  {
   "cell_type": "markdown",
   "id": "ee317862-0ffe-4cb6-b043-463d913368f6",
   "metadata": {},
   "source": [
    "### 1. To work with dataset"
   ]
  },
  {
   "cell_type": "code",
   "execution_count": null,
   "id": "928cb90e-6adf-4a05-9302-e7171b5912aa",
   "metadata": {},
   "outputs": [],
   "source": [
    "from sklearn import datasets\n",
    "iris = datasets.load_iris()\n",
    "X, y = iris.data, iris.target"
   ]
  },
  {
   "cell_type": "markdown",
   "id": "95b82477-66e6-419c-bdc5-57bf02995bdd",
   "metadata": {},
   "source": [
    "### 2. To split data into training and tests sets"
   ]
  },
  {
   "cell_type": "code",
   "execution_count": null,
   "id": "e400aac7-6b0c-455b-83b8-f1209ea91a0d",
   "metadata": {},
   "outputs": [],
   "source": [
    "from sklearn.model_selection import train_test_split\n",
    "X_train, X_test, y_train, y_test = train_test_split(X, y, test_size=0.2)"
   ]
  },
  {
   "cell_type": "markdown",
   "id": "4f4f0055-e93c-472b-b03f-3857ff8bf17d",
   "metadata": {},
   "source": [
    "### 3. Training a ML model using randomforestclassifier"
   ]
  },
  {
   "cell_type": "code",
   "execution_count": null,
   "id": "dbad58d7-22fe-4475-a77e-2a7bb98eee81",
   "metadata": {},
   "outputs": [],
   "source": [
    "from sklearn.ensemble import RandomForestClassifier\n",
    "model = RandomForestClassifier()\n",
    "model.fit(X_train, y_train)"
   ]
  },
  {
   "cell_type": "markdown",
   "id": "63c4577f-f29a-408c-92d1-2c7575fe70f5",
   "metadata": {},
   "source": [
    "### 4. To access the model predictions"
   ]
  },
  {
   "cell_type": "code",
   "execution_count": null,
   "id": "8a5e2320-1e18-42bf-9d4c-fd893e2af76f",
   "metadata": {},
   "outputs": [],
   "source": [
    "predictions = model.predict(X_test)"
   ]
  },
  {
   "cell_type": "markdown",
   "id": "70de08c0-bdda-49ab-8148-b8ef7abb5948",
   "metadata": {},
   "source": [
    "### 5. To evualate your model"
   ]
  },
  {
   "cell_type": "code",
   "execution_count": null,
   "id": "54152d6a-d0ac-4cdc-8042-f15cb8d951eb",
   "metadata": {},
   "outputs": [],
   "source": [
    "from sklearn.metrics import accuracy_score\n",
    "accuracy = accuracy_score(y_test, predictions)\n",
    "print(f\"Model accuracy: {accuracy}\")"
   ]
  },
  {
   "cell_type": "markdown",
   "id": "4370b030-5b60-4504-9fd4-5d26e07e2d8d",
   "metadata": {},
   "source": [
    "### 6. To use cross-validation"
   ]
  },
  {
   "cell_type": "code",
   "execution_count": null,
   "id": "2c344fa3-f93a-46f2-9954-4c1b97c16365",
   "metadata": {},
   "outputs": [],
   "source": [
    "from sklearn.model_selection import cross_val_score\n",
    "scores = cross_val_score(model, X, y, cv=5)\n",
    "print(f\"Cross-validation scores: {scores}\")"
   ]
  },
  {
   "cell_type": "markdown",
   "id": "43c7ad42-f08e-44e8-843d-65746da13e81",
   "metadata": {},
   "source": [
    "### 7. To create the appropriate scales of your features"
   ]
  },
  {
   "cell_type": "code",
   "execution_count": null,
   "id": "538dfe41-a6e6-47cb-8a9e-30895779ae1f",
   "metadata": {},
   "outputs": [],
   "source": [
    "from sklearn.preprocessing import StandardScaler\n",
    "scaler = StandardScaler()\n",
    "X_train_scaled = scaler.fit_transform(X_train)\n",
    "X_test_scaled = scaler.transform(X_test)"
   ]
  },
  {
   "cell_type": "markdown",
   "id": "941cfdd0-060d-4d57-a929-aa37f71d4792",
   "metadata": {},
   "source": [
    "### 8. To refine your models parameters"
   ]
  },
  {
   "cell_type": "code",
   "execution_count": null,
   "id": "afacc3ae-363c-4c85-a926-16f91c4e00a6",
   "metadata": {},
   "outputs": [],
   "source": [
    "from sklearn.model_selection import GridSearchCV\n",
    "param_grid = {'n_estimators': [10, 50, 100], 'max_depth': [None, 10, 20]}\n",
    "grid_search = GridSearchCV(model, param_grid, cv=5)\n",
    "grid_search.fit(X_train, y_train)"
   ]
  },
  {
   "cell_type": "markdown",
   "id": "59c0ce37-4a28-4ccd-b5b2-2f4174007261",
   "metadata": {},
   "source": [
    "### 9. Pipeline creation"
   ]
  },
  {
   "cell_type": "code",
   "execution_count": null,
   "id": "6bde618f-0b5e-427a-a49f-3bc1d0b28f89",
   "metadata": {},
   "outputs": [],
   "source": [
    "from sklearn.pipeline import Pipeline\n",
    "pipeline = Pipeline([\n",
    "    ('scaler', StandardScaler()),\n",
    "    ('classifier', RandomForestClassifier())\n",
    "])\n",
    "pipeline.fit(X_train, y_train)"
   ]
  },
  {
   "cell_type": "markdown",
   "id": "5092a7bd-c9d3-4514-9dc8-00557f383813",
   "metadata": {},
   "source": [
    "### 10. To save and load your model"
   ]
  },
  {
   "cell_type": "code",
   "execution_count": null,
   "id": "dfddf9fc-e6fb-4232-b233-3759a2911033",
   "metadata": {},
   "outputs": [],
   "source": [
    "import joblib\n",
    "# Saving the model\n",
    "joblib.dump(model, 'model.joblib')\n",
    "# Loading the model\n",
    "loaded_model = joblib.load('model.joblib')"
   ]
  }
 ],
 "metadata": {
  "kernelspec": {
   "display_name": "Python 3 (ipykernel)",
   "language": "python",
   "name": "python3"
  },
  "language_info": {
   "codemirror_mode": {
    "name": "ipython",
    "version": 3
   },
   "file_extension": ".py",
   "mimetype": "text/x-python",
   "name": "python",
   "nbconvert_exporter": "python",
   "pygments_lexer": "ipython3",
   "version": "3.12.0"
  }
 },
 "nbformat": 4,
 "nbformat_minor": 5
}
