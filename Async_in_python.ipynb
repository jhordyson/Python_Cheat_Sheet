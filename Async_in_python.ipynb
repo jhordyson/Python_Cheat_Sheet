{
 "cells": [
  {
   "cell_type": "markdown",
   "id": "73f0a6db-0c31-41b4-8052-c790473dbd49",
   "metadata": {},
   "source": [
    "# Working with async IO (Asyncrounous Programming)"
   ]
  },
  {
   "cell_type": "markdown",
   "id": "ae20f201-0b1d-43c9-966f-4c8c42bdd2e3",
   "metadata": {},
   "source": [
    "### 1. To declare an async function"
   ]
  },
  {
   "cell_type": "code",
   "execution_count": null,
   "id": "e709f5c9-86f4-4d8c-8682-9b243264212f",
   "metadata": {},
   "outputs": [],
   "source": [
    "import asyncio\n",
    "async def fetch_data():\n",
    "    print(\"Fetching data...\")\n",
    "    await asyncio.sleep(2)  # simulate an I/O operation\n",
    "    print(\"Data retrieved.\")"
   ]
  },
  {
   "cell_type": "markdown",
   "id": "b25683c3-1b4e-4489-a671-5a238c39545f",
   "metadata": {},
   "source": [
    "### 2. To run an async function and await them"
   ]
  },
  {
   "cell_type": "code",
   "execution_count": null,
   "id": "43c9fb3a-2129-454f-93e9-7db56d10a1da",
   "metadata": {},
   "outputs": [],
   "source": [
    "async def main():\n",
    "    await fetch_data()\n",
    "asyncio.run(main())"
   ]
  },
  {
   "cell_type": "markdown",
   "id": "acf63bc2-9251-4de6-bed2-e9ba0f5332a2",
   "metadata": {},
   "source": [
    "### 3. To invoke multiple async functions and await all"
   ]
  },
  {
   "cell_type": "code",
   "execution_count": null,
   "id": "92ee38fa-4a4c-4e37-a6a2-898260a173db",
   "metadata": {},
   "outputs": [],
   "source": [
    "async def main():\n",
    "    task1 = fetch_data()\n",
    "    task2 = fetch_data()\n",
    "    await asyncio.gather(task1, task2)\n",
    "asyncio.run(main())"
   ]
  },
  {
   "cell_type": "markdown",
   "id": "f3042e0b-743e-4b16-bf08-144dadbb816c",
   "metadata": {},
   "source": [
    "### 4. To create tasks"
   ]
  },
  {
   "cell_type": "code",
   "execution_count": null,
   "id": "85530e8a-6fd2-4dfb-bbb3-7b5eff748fe4",
   "metadata": {},
   "outputs": [],
   "source": [
    "async def main():\n",
    "    task1 = asyncio.create_task(fetch_data())\n",
    "    task2 = asyncio.create_task(fetch_data())\n",
    "    await task1\n",
    "    await task2\n",
    "asyncio.run(main())"
   ]
  },
  {
   "cell_type": "markdown",
   "id": "a2f5b9d5-fa54-4507-a7de-da0fa392cd80",
   "metadata": {},
   "source": [
    "### 5. Asynchronous iteration"
   ]
  },
  {
   "cell_type": "code",
   "execution_count": null,
   "id": "302556e1-73ed-4777-aa6e-7099a9ecb7af",
   "metadata": {},
   "outputs": [],
   "source": [
    "async def fetch_item(item):\n",
    "    await asyncio.sleep(1)  # simulate an I/O operation\n",
    "    print(f\"Fetched {item}\")\n",
    "async def main():\n",
    "    items = ['one', 'two', 'three']\n",
    "    for item in items:\n",
    "        await fetch_item(item)\n",
    "asyncio.run(main())"
   ]
  },
  {
   "cell_type": "markdown",
   "id": "4273cb87-c88a-49e9-878b-ab0c6422506f",
   "metadata": {},
   "source": [
    "### 6. Using asynchronous context managers"
   ]
  },
  {
   "cell_type": "code",
   "execution_count": null,
   "id": "98284569-2608-4b69-82e0-0da10ca28461",
   "metadata": {},
   "outputs": [],
   "source": [
    "async def async_context_manager():\n",
    "    print(\"Entering context\")\n",
    "    await asyncio.sleep(1)\n",
    "    print(\"Exiting context\")\n",
    "async def main():\n",
    "    async with async_context_manager():\n",
    "        print(\"Within context\")\n",
    "asyncio.run(main())"
   ]
  },
  {
   "cell_type": "markdown",
   "id": "0bda876c-3017-4a4d-a43c-f99e20fae495",
   "metadata": {},
   "source": [
    "### 7. Handling exceptions in asynchronous code"
   ]
  },
  {
   "cell_type": "code",
   "execution_count": null,
   "id": "c9808748-a460-4ff2-bb75-3b131f664bdb",
   "metadata": {},
   "outputs": [],
   "source": [
    "async def risky_spell():\n",
    "    await asyncio.sleep(1)\n",
    "    raise ValueError(\"Wrong\")\n",
    "async def main():\n",
    "    try:\n",
    "        await risky_spell()\n",
    "    except ValueError as e:\n",
    "        print(f\"Caught an error: {e}\")\n",
    "asyncio.run(main())"
   ]
  },
  {
   "cell_type": "markdown",
   "id": "5c3c67d2-1f37-46fe-828d-4aea49409d8f",
   "metadata": {},
   "source": [
    "### 8. To create async generators"
   ]
  },
  {
   "cell_type": "code",
   "execution_count": null,
   "id": "360e7987-0829-4b25-bcb6-91b11909740e",
   "metadata": {},
   "outputs": [],
   "source": [
    "async def fetch_items():\n",
    "    items = ['one', 'two', 'three']\n",
    "    for item in items:\n",
    "        await asyncio.sleep(1)\n",
    "        yield item\n",
    "async def main():\n",
    "    async for item in fetch_items():\n",
    "        print(f\"Found {item}\")\n",
    "asyncio.run(main())"
   ]
  },
  {
   "cell_type": "markdown",
   "id": "6c4c8386-ca30-4f49-a297-d67e3cc3e693",
   "metadata": {},
   "source": [
    "### 9. To limit the number of concurrent tasks"
   ]
  },
  {
   "cell_type": "code",
   "execution_count": null,
   "id": "d8c7ec06-649c-48e5-ad73-2eaa1ad2f8c7",
   "metadata": {},
   "outputs": [],
   "source": [
    "async def guarded_spell(semaphore, item):\n",
    "    async with semaphore:\n",
    "        print(f\"Processing {item}\")\n",
    "        await asyncio.sleep(1)\n",
    "async def main():\n",
    "    semaphore = asyncio.Semaphore(2)  # allow 2 concurrent tasks\n",
    "    await asyncio.gather(*(guarded_spell(semaphore, i) for i in range(5)))\n",
    "asyncio.run(main())"
   ]
  },
  {
   "cell_type": "markdown",
   "id": "b7247584-b73d-4e75-ad92-e005f658ea78",
   "metadata": {},
   "source": [
    "### 10. Event loops"
   ]
  },
  {
   "cell_type": "code",
   "execution_count": null,
   "id": "1cb7b46f-04d0-4781-b28b-f04fed3120d8",
   "metadata": {},
   "outputs": [],
   "source": [
    "async def perform_spell():\n",
    "    print(\"Casting spell...\")\n",
    "    await asyncio.sleep(1)\n",
    "    print(\"Spell cast.\")\n",
    "loop = asyncio.get_event_loop()\n",
    "try:\n",
    "    loop.run_until_complete(perform_spell())\n",
    "finally:\n",
    "    loop.close()"
   ]
  },
  {
   "cell_type": "code",
   "execution_count": null,
   "id": "067b5edf-3cc9-4090-a791-a3120417ddb8",
   "metadata": {},
   "outputs": [],
   "source": []
  }
 ],
 "metadata": {
  "kernelspec": {
   "display_name": "Python 3 (ipykernel)",
   "language": "python",
   "name": "python3"
  },
  "language_info": {
   "codemirror_mode": {
    "name": "ipython",
    "version": 3
   },
   "file_extension": ".py",
   "mimetype": "text/x-python",
   "name": "python",
   "nbconvert_exporter": "python",
   "pygments_lexer": "ipython3",
   "version": "3.12.0"
  }
 },
 "nbformat": 4,
 "nbformat_minor": 5
}
