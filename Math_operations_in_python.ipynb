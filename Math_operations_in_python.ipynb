{
 "cells": [
  {
   "cell_type": "markdown",
   "id": "590125b6-afe0-4474-a8da-50f67ee0cbb8",
   "metadata": {},
   "source": [
    "# Working with math operations and permutations"
   ]
  },
  {
   "cell_type": "markdown",
   "id": "3ccf9f19-febc-4f64-a79b-6c510987c912",
   "metadata": {},
   "source": [
    "### 1. To perform basis operations"
   ]
  },
  {
   "cell_type": "code",
   "execution_count": null,
   "id": "18b25b5a-38a8-4b6b-a2e6-deb6f5ccdb93",
   "metadata": {},
   "outputs": [],
   "source": [
    "sum = 1 + 1 # addition\n",
    "difference = 2 - 1 # substraction\n",
    "product = 2 * 1 # multiplication\n",
    "quotient = 7 / 3 # division\n",
    "remainder = 7 % 3 # remainder\n",
    "power = 7 ** 3 # exponentiation"
   ]
  },
  {
   "cell_type": "markdown",
   "id": "3c39e54c-0772-4206-88c4-2fdefeadca55",
   "metadata": {},
   "source": [
    "### 2. To work with complex numbers"
   ]
  },
  {
   "cell_type": "code",
   "execution_count": null,
   "id": "d8203852-e1a4-44ef-bdb4-c61105fcb649",
   "metadata": {},
   "outputs": [],
   "source": [
    "z = complex(2, 3)  # create a complex number 2 + 3j\n",
    "real_part = z.real  # retrieve the real part\n",
    "imaginary_part = z.imag  # retrieve the imaginary part\n",
    "conjugate = z.conjugate()  # get the conjugate"
   ]
  },
  {
   "cell_type": "markdown",
   "id": "dd2a81ab-d897-47ca-8616-d88293d518ad",
   "metadata": {},
   "source": [
    "### 3. Math functions"
   ]
  },
  {
   "cell_type": "code",
   "execution_count": null,
   "id": "fc81891c-a2a1-4eac-92e7-3e53a3aa5958",
   "metadata": {},
   "outputs": [],
   "source": [
    "import math\n",
    "root = math.sqrt(16)  # square root\n",
    "logarithm = math.log(100, 10)  # logarithm base 10 of 100\n",
    "sine = math.sin(math.pi / 2)  # sine of 90 degrees (in radians)"
   ]
  },
  {
   "cell_type": "markdown",
   "id": "185c866a-bd20-4f9b-961a-16ee029839b2",
   "metadata": {},
   "source": [
    "### 4. To generate permutations"
   ]
  },
  {
   "cell_type": "code",
   "execution_count": null,
   "id": "1a023398-5e6c-4392-a9bc-c333b5e89d88",
   "metadata": {},
   "outputs": [],
   "source": [
    "from itertools import permutations\n",
    "paths = permutations([1, 2, 3])  # generate all permutations of the list [1, 2, 3]\n",
    "for path in paths:\n",
    "    print(path)"
   ]
  },
  {
   "cell_type": "markdown",
   "id": "85b9fba4-6866-4b13-b943-8400130a6a03",
   "metadata": {},
   "source": [
    "### 5. To generate combinations"
   ]
  },
  {
   "cell_type": "code",
   "execution_count": null,
   "id": "efb940a9-b853-414b-9700-970620d0d288",
   "metadata": {},
   "outputs": [],
   "source": [
    "from itertools import combinations\n",
    "combos = combinations([1, 2, 3, 4], 2)  # generate all 2-element combinations\n",
    "for combo in combos:\n",
    "    print(combo)"
   ]
  },
  {
   "cell_type": "markdown",
   "id": "fd4fb084-af7e-4b30-b266-d18709d1575d",
   "metadata": {},
   "source": [
    "### 6. To get a random number"
   ]
  },
  {
   "cell_type": "code",
   "execution_count": null,
   "id": "8ff913d4-1303-4cc1-8092-6f7289f93e28",
   "metadata": {},
   "outputs": [],
   "source": [
    "import random\n",
    "num = random.randint(1, 100)  # generate a random integer between 1 and 100"
   ]
  },
  {
   "cell_type": "markdown",
   "id": "27dc8586-43e4-4cd5-a218-87323869f991",
   "metadata": {},
   "source": [
    "### 7. To work with fractions"
   ]
  },
  {
   "cell_type": "code",
   "execution_count": null,
   "id": "12f70967-531d-4b2d-b705-2be9f63f568d",
   "metadata": {},
   "outputs": [],
   "source": [
    "from fractions import Fraction\n",
    "f = Fraction(3, 4)  # create a fraction 3/4\n",
    "print(f + 1)  # add a fraction and an integer"
   ]
  },
  {
   "cell_type": "markdown",
   "id": "acf11002-7f4e-4dd0-bfb1-8541f90a82bf",
   "metadata": {},
   "source": [
    "### 8. To get statistical functions"
   ]
  },
  {
   "cell_type": "code",
   "execution_count": null,
   "id": "3383dc74-4f1d-40d5-a67e-52f7198ebfdf",
   "metadata": {},
   "outputs": [],
   "source": [
    "import statistics\n",
    "data = [1, 2, 3, 4, 5]\n",
    "mean = statistics.mean(data)  # average\n",
    "median = statistics.median(data)  # median\n",
    "stdev = statistics.stdev(data)  # standard deviation"
   ]
  },
  {
   "cell_type": "markdown",
   "id": "374a34a6-5056-441e-bc6b-35081da83b6c",
   "metadata": {},
   "source": [
    "### 9. To work with trigonometry"
   ]
  },
  {
   "cell_type": "code",
   "execution_count": null,
   "id": "d2754c7b-dedc-4fb5-9a9e-bce36896c1b8",
   "metadata": {},
   "outputs": [],
   "source": [
    "import math\n",
    "angle_rad = math.radians(60)  # convert 60 degrees to radians\n",
    "cosine = math.cos(angle_rad)  # cosine of the angle"
   ]
  },
  {
   "cell_type": "markdown",
   "id": "8a370c36-2195-49c8-99ae-4efff9365213",
   "metadata": {},
   "source": [
    "### 10. To work with infinity and nan"
   ]
  },
  {
   "cell_type": "code",
   "execution_count": null,
   "id": "fd9f62ec-f968-4a01-8174-65c885964058",
   "metadata": {},
   "outputs": [],
   "source": [
    "import math\n",
    "infinity = math.inf  # representing infinity\n",
    "not_a_number = math.nan  # representing a non-number (NaN)"
   ]
  }
 ],
 "metadata": {
  "kernelspec": {
   "display_name": "Python 3 (ipykernel)",
   "language": "python",
   "name": "python3"
  },
  "language_info": {
   "codemirror_mode": {
    "name": "ipython",
    "version": 3
   },
   "file_extension": ".py",
   "mimetype": "text/x-python",
   "name": "python",
   "nbconvert_exporter": "python",
   "pygments_lexer": "ipython3",
   "version": "3.12.0"
  }
 },
 "nbformat": 4,
 "nbformat_minor": 5
}
