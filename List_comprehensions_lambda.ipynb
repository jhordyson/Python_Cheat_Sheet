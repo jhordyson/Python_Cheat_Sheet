{
 "cells": [
  {
   "cell_type": "markdown",
   "id": "67129d8e-ff81-4881-b6dc-d2ca80fa1968",
   "metadata": {},
   "source": [
    "# Working with list comprehensions and lambda functions"
   ]
  },
  {
   "cell_type": "markdown",
   "id": "4482d481-0f43-4f38-8fcb-b1ef37749103",
   "metadata": {},
   "source": [
    "### 1. To work with nested list comprehensions"
   ]
  },
  {
   "cell_type": "code",
   "execution_count": null,
   "id": "30438f49-9e9b-47d7-83e6-30ebec772a21",
   "metadata": {},
   "outputs": [],
   "source": [
    "matrix = [[j for j in range(5)] for i in range(3)]\n",
    "print(matrix)  # Creates a 3x5 matrix"
   ]
  },
  {
   "cell_type": "markdown",
   "id": "9ba135ae-c9f6-45cc-8aa6-6476ea764c72",
   "metadata": {},
   "source": [
    "### 2. To filter elements that meet your criteria"
   ]
  },
  {
   "cell_type": "code",
   "execution_count": null,
   "id": "6a61e253-846c-4dfe-8ed6-6c453ddff9c0",
   "metadata": {},
   "outputs": [],
   "source": [
    "filtered = [x for x in range(10) if x % 2 == 0]\n",
    "print(filtered)  # Even numbers from 0 to 9"
   ]
  },
  {
   "cell_type": "markdown",
   "id": "bab708a0-c615-431d-aa7d-09bfca5044f5",
   "metadata": {},
   "source": [
    "### 3. List comprehensions with multiple iterables"
   ]
  },
  {
   "cell_type": "code",
   "execution_count": null,
   "id": "7c5e7873-90a2-428a-976b-63f9a97556c9",
   "metadata": {},
   "outputs": [],
   "source": [
    "pairs = [(x, y) for x in [1, 2, 3] for y in [3, 1, 4] if x != y]\n",
    "print(pairs)  # Pairs of non-equal elements"
   ]
  },
  {
   "cell_type": "markdown",
   "id": "6b2baf05-f2f1-49b0-a507-7bdca32afea8",
   "metadata": {},
   "source": [
    "### 4. Ussing lambda functions"
   ]
  },
  {
   "cell_type": "code",
   "execution_count": null,
   "id": "502f39be-1225-4a1a-a9f0-a7b17edbfdc6",
   "metadata": {},
   "outputs": [],
   "source": [
    "square = lambda x: x**2\n",
    "print(square(5))  # Returns 25"
   ]
  },
  {
   "cell_type": "markdown",
   "id": "ab1a28dc-2a39-43bc-9768-2c0781dbca60",
   "metadata": {},
   "source": [
    "### 5. Lambda function in list comprehension"
   ]
  },
  {
   "cell_type": "code",
   "execution_count": null,
   "id": "27ce1755-81e0-49e6-9001-3c8f5acde5c5",
   "metadata": {},
   "outputs": [],
   "source": [
    "squared = [(lambda x: x**2)(x) for x in range(5)]\n",
    "print(squared)  # Squares of numbers from 0 to 4"
   ]
  },
  {
   "cell_type": "markdown",
   "id": "1b30d92e-41db-4791-a85f-fec8c9159ce2",
   "metadata": {},
   "source": [
    "### 6. List comprehensions for flat list"
   ]
  },
  {
   "cell_type": "code",
   "execution_count": null,
   "id": "f646bdb0-d677-4734-a0b6-bc16db982501",
   "metadata": {},
   "outputs": [],
   "source": [
    "nested = [[1, 2, 3], [4, 5], [6, 7]]\n",
    "flattened = [x for sublist in nested for x in sublist]\n",
    "print(flattened)"
   ]
  },
  {
   "cell_type": "markdown",
   "id": "6c4d5677-52ee-45fa-b8a4-81b921c98f30",
   "metadata": {},
   "source": [
    "### 7. Applying functions to elements"
   ]
  },
  {
   "cell_type": "code",
   "execution_count": null,
   "id": "b211b92c-648e-4f7b-91bb-f4e71bc36167",
   "metadata": {},
   "outputs": [],
   "source": [
    "import math\n",
    "transformed = [math.sqrt(x) for x in range(1, 6)]\n",
    "print(transformed)  # Square roots of numbers from 1 to 5"
   ]
  },
  {
   "cell_type": "markdown",
   "id": "a002b439-6f23-413a-b127-49ccd206e5da",
   "metadata": {},
   "source": [
    "### 8. Using lambda with map and filter"
   ]
  },
  {
   "cell_type": "code",
   "execution_count": null,
   "id": "5508d90b-4313-4e06-96e7-c972b37b3ee5",
   "metadata": {},
   "outputs": [],
   "source": [
    "mapped = list(map(lambda x: x**2, range(5)))\n",
    "filtered = list(filter(lambda x: x > 5, mapped))\n",
    "print(mapped)    # Squares of numbers from 0 to 4\n",
    "print(filtered)  # Elements greater than 5"
   ]
  },
  {
   "cell_type": "markdown",
   "id": "91338d59-8eb1-4ec8-bbe1-a518de885b76",
   "metadata": {},
   "source": [
    "### 9. List comprehensions with conditional expressions"
   ]
  },
  {
   "cell_type": "code",
   "execution_count": null,
   "id": "d34f7e7c-c450-4451-ac3f-b90e53a8cebc",
   "metadata": {},
   "outputs": [],
   "source": [
    "conditional = [x if x > 2 else x**2 for x in range(5)]\n",
    "print(conditional)  # Squares numbers less than or equal to 2, passes others unchanged"
   ]
  },
  {
   "cell_type": "markdown",
   "id": "230efcdf-17b9-4852-bcb4-88a65d81a6bd",
   "metadata": {},
   "source": [
    "### 10. Complex transformations with lambda"
   ]
  },
  {
   "cell_type": "code",
   "execution_count": null,
   "id": "d4162c75-63e6-454c-ad38-aea1fd8563e0",
   "metadata": {},
   "outputs": [],
   "source": [
    "complex_transformation = list(map(lambda x: x**2 if x % 2 == 0 else x + 5, range(5)))\n",
    "print(complex_transformation)  # Applies different transformations based on even-odd condition"
   ]
  }
 ],
 "metadata": {
  "kernelspec": {
   "display_name": "Python 3 (ipykernel)",
   "language": "python",
   "name": "python3"
  },
  "language_info": {
   "codemirror_mode": {
    "name": "ipython",
    "version": 3
   },
   "file_extension": ".py",
   "mimetype": "text/x-python",
   "name": "python",
   "nbconvert_exporter": "python",
   "pygments_lexer": "ipython3",
   "version": "3.12.0"
  }
 },
 "nbformat": 4,
 "nbformat_minor": 5
}
