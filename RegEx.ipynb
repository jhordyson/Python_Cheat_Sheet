{
 "cells": [
  {
   "cell_type": "markdown",
   "id": "bb701fd7-29c8-4a3d-adee-ba11b35ce416",
   "metadata": {},
   "source": [
    "# Working with regular expressions"
   ]
  },
  {
   "cell_type": "markdown",
   "id": "25b0836d-eff8-4a5d-a442-12aec9aa76c9",
   "metadata": {},
   "source": [
    "### 1. Basic pattern matching"
   ]
  },
  {
   "cell_type": "code",
   "execution_count": null,
   "id": "01b9dd26-05ac-4ad8-9c18-19db826d5136",
   "metadata": {},
   "outputs": [],
   "source": [
    "import re\n",
    "text = \"Search this string for patterns.\"\n",
    "match = re.search(r\"patterns\", text)\n",
    "if match:\n",
    "    print(\"Pattern found!\")"
   ]
  },
  {
   "cell_type": "markdown",
   "id": "03da8bc5-8fe9-4d64-8033-4a0cd2219320",
   "metadata": {},
   "source": [
    "### 2. Compiling regex"
   ]
  },
  {
   "cell_type": "code",
   "execution_count": null,
   "id": "b2416ba8-92f3-4bf1-9a71-e083145d58c3",
   "metadata": {},
   "outputs": [],
   "source": [
    "pattern = re.compile(r\"patterns\")\n",
    "match = pattern.search(text)"
   ]
  },
  {
   "cell_type": "markdown",
   "id": "0521250b-c197-4eba-908d-55743c828ebb",
   "metadata": {},
   "source": [
    "### 3. Matching at the beginning or end"
   ]
  },
  {
   "cell_type": "code",
   "execution_count": null,
   "id": "6ca9fba3-7e59-4844-956a-5f3ff9ce7931",
   "metadata": {},
   "outputs": [],
   "source": [
    "if re.match(r\"^Search\", text):\n",
    "    print(\"Starts with 'Search'\")\n",
    "if re.search(r\"patterns.$\", text):\n",
    "    print(\"Ends with 'patterns.'\")"
   ]
  },
  {
   "cell_type": "markdown",
   "id": "9dcc1bd0-410b-4fa3-83fe-c6a885f2dc75",
   "metadata": {},
   "source": [
    "### 4. Finding all matches"
   ]
  },
  {
   "cell_type": "code",
   "execution_count": null,
   "id": "2a02b867-1d96-4f5a-ab9e-db11838fed6b",
   "metadata": {},
   "outputs": [],
   "source": [
    "all_matches = re.findall(r\"t\\w+\", text)  # Finds words starting with 't'\n",
    "print(all_matches)"
   ]
  },
  {
   "cell_type": "markdown",
   "id": "e61d9d19-8769-438c-b5ad-a617f0e63dbf",
   "metadata": {},
   "source": [
    "### 5. Search and replace"
   ]
  },
  {
   "cell_type": "code",
   "execution_count": null,
   "id": "f1245139-d6fc-4839-b305-ad26bbd6a6b3",
   "metadata": {},
   "outputs": [],
   "source": [
    "replaced_text = re.sub(r\"string\", \"sentence\", text)\n",
    "print(replaced_text)"
   ]
  },
  {
   "cell_type": "markdown",
   "id": "ebab84eb-d762-4a3e-8e3a-437606397323",
   "metadata": {},
   "source": [
    "### 6. To split a string"
   ]
  },
  {
   "cell_type": "code",
   "execution_count": null,
   "id": "f793993e-f3ab-481f-862b-1edfc9e44480",
   "metadata": {},
   "outputs": [],
   "source": [
    "words = re.split(r\"\\s+\", text)  # Split on one or more spaces\n",
    "print(words)"
   ]
  },
  {
   "cell_type": "markdown",
   "id": "417d2b25-63d5-4e60-9dd8-81e139fa5035",
   "metadata": {},
   "source": [
    "### 7. Escaping special characteres"
   ]
  },
  {
   "cell_type": "code",
   "execution_count": null,
   "id": "b04a65af-d14a-488c-9b75-c120b5a454d1",
   "metadata": {},
   "outputs": [],
   "source": [
    "escaped = re.search(r\"\\bfor\\b\", text)  # \\b is a word boundary"
   ]
  },
  {
   "cell_type": "markdown",
   "id": "17855f50-3da7-4800-94d7-21f1b767c1d3",
   "metadata": {},
   "source": [
    "### 8. Grouping and capturing"
   ]
  },
  {
   "cell_type": "code",
   "execution_count": null,
   "id": "78fce3f5-fd0a-4b8b-a0f7-278632cf9a17",
   "metadata": {},
   "outputs": [],
   "source": [
    "match = re.search(r\"(\\w+) (\\w+)\", text)\n",
    "if match:\n",
    "    print(match.group())  # The whole match\n",
    "    print(match.group(1)) # The first group"
   ]
  },
  {
   "cell_type": "markdown",
   "id": "2f505565-534a-4949-9173-33efdf6992ba",
   "metadata": {},
   "source": [
    "### 9. Non capturing groups"
   ]
  },
  {
   "cell_type": "code",
   "execution_count": null,
   "id": "aad8a126-ad3f-4584-bea3-a814b1a8e2c0",
   "metadata": {},
   "outputs": [],
   "source": [
    "match = re.search(r\"(?:\\w+) (\\w+)\", text)\n",
    "if match:\n",
    "    print(match.group(1))  # The first (and only) group"
   ]
  },
  {
   "cell_type": "markdown",
   "id": "e5b0cd3e-3585-468f-8dfa-ef7390b79f86",
   "metadata": {},
   "source": [
    "### 10. Lookahead and lookbehind assertions"
   ]
  },
  {
   "cell_type": "code",
   "execution_count": null,
   "id": "613fca91-04c5-403c-a468-f41f60ccfe4d",
   "metadata": {},
   "outputs": [],
   "source": [
    "lookahead = re.search(r\"\\b\\w+(?= string)\", text)  # Word before ' string'\n",
    "lookbehind = re.search(r\"(?<=Search )\\w+\", text)  # Word after 'Search '\n",
    "if lookahead:\n",
    "    print(lookahead.group())\n",
    "if lookbehind:\n",
    "    print(lookbehind.group())"
   ]
  },
  {
   "cell_type": "markdown",
   "id": "f1f76fe4-a02f-4726-b1e3-b599d3bedc7d",
   "metadata": {},
   "source": [
    "### 11. Flags to modify patterns matching behavior"
   ]
  },
  {
   "cell_type": "code",
   "execution_count": null,
   "id": "cca756b2-998a-4365-ae14-31c876d31988",
   "metadata": {},
   "outputs": [],
   "source": [
    "case_insensitive = re.findall(r\"search\", text, re.IGNORECASE)\n",
    "print(case_insensitive)"
   ]
  },
  {
   "cell_type": "markdown",
   "id": "34bfdbfe-6e9a-47e0-bea2-a384396eda85",
   "metadata": {},
   "source": [
    "### 12. Using named groups"
   ]
  },
  {
   "cell_type": "code",
   "execution_count": null,
   "id": "ec2e5783-ee29-4ac1-88c7-b012a50db26a",
   "metadata": {},
   "outputs": [],
   "source": [
    "match = re.search(r\"(?P<first>\\w+) (?P<second>\\w+)\", text)\n",
    "if match:\n",
    "    print(match.group('first'))\n",
    "    print(match.group('second'))"
   ]
  },
  {
   "cell_type": "markdown",
   "id": "aede4d12-476f-4467-9c76-ab1f6d999162",
   "metadata": {},
   "source": [
    "### 13. Matching across multiple lines"
   ]
  },
  {
   "cell_type": "code",
   "execution_count": null,
   "id": "0822a57e-892a-403d-abe2-23b1219ac7eb",
   "metadata": {},
   "outputs": [],
   "source": [
    "multi_line_text = \"Start\\nmiddle end\"\n",
    "matches = re.findall(r\"^m\\w+\", multi_line_text, re.MULTILINE)\n",
    "print(matches)"
   ]
  },
  {
   "cell_type": "markdown",
   "id": "7d8006c4-a342-4e5d-8cc1-1caecb82037c",
   "metadata": {},
   "source": [
    "### 14. Lazy quantifiers"
   ]
  },
  {
   "cell_type": "code",
   "execution_count": null,
   "id": "e5a8a01c-a252-46ea-831f-cf1df14a6e2a",
   "metadata": {},
   "outputs": [],
   "source": [
    "html = \"<body><h1>Title</h1></body>\"\n",
    "match = re.search(r\"<.*?>\", html)\n",
    "if match:\n",
    "    print(match.group())  # Matches '<body>'"
   ]
  },
  {
   "cell_type": "markdown",
   "id": "c12152ba-89dd-4d74-8082-940706e31885",
   "metadata": {},
   "source": [
    "### 15. Verbose regex"
   ]
  },
  {
   "cell_type": "code",
   "execution_count": null,
   "id": "ea70861e-e09b-46a7-b10e-aadb93c6a93d",
   "metadata": {},
   "outputs": [],
   "source": [
    "pattern = re.compile(r\"\"\"\n",
    "    \\b      # Word boundary\n",
    "    \\w+     # One or more word characters\n",
    "    \\s      # Space\n",
    "    \"\"\", re.VERBOSE)\n",
    "match = pattern.search(text)"
   ]
  }
 ],
 "metadata": {
  "kernelspec": {
   "display_name": "Python 3 (ipykernel)",
   "language": "python",
   "name": "python3"
  },
  "language_info": {
   "codemirror_mode": {
    "name": "ipython",
    "version": 3
   },
   "file_extension": ".py",
   "mimetype": "text/x-python",
   "name": "python",
   "nbconvert_exporter": "python",
   "pygments_lexer": "ipython3",
   "version": "3.12.0"
  }
 },
 "nbformat": 4,
 "nbformat_minor": 5
}
