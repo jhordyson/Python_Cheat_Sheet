{
 "cells": [
  {
   "cell_type": "markdown",
   "id": "305585b9-decc-402b-961e-e147701fd014",
   "metadata": {},
   "source": [
    "# Working with files"
   ]
  },
  {
   "cell_type": "markdown",
   "id": "ba53884a-9664-4b10-a57a-9f9e76b79c00",
   "metadata": {},
   "source": [
    "### 1. To write text to a file, overwriting existing content"
   ]
  },
  {
   "cell_type": "code",
   "execution_count": 1,
   "id": "23a844b3-4105-4e2d-9e1f-267b926fddd4",
   "metadata": {},
   "outputs": [],
   "source": [
    "with open('example.txt', 'w') as file:\n",
    "    file.write('Hello!!!!')"
   ]
  },
  {
   "cell_type": "markdown",
   "id": "84a06f02-2b53-4631-85e4-d22f0e153c67",
   "metadata": {},
   "source": [
    "### 2. To read the entire content of a file"
   ]
  },
  {
   "cell_type": "code",
   "execution_count": 2,
   "id": "ba0ecd06-1537-4dc3-9d82-425a3c38afc8",
   "metadata": {},
   "outputs": [
    {
     "name": "stdout",
     "output_type": "stream",
     "text": [
      "Hello!!!!\n"
     ]
    }
   ],
   "source": [
    "with open ('example.txt', 'r') as file:\n",
    "    content = file.read()\n",
    "    print(content)"
   ]
  },
  {
   "cell_type": "markdown",
   "id": "bd58fe55-66f0-48ab-bb2c-f5f82cb9fe6c",
   "metadata": {},
   "source": [
    "### 3. To add text to the end of and existing file"
   ]
  },
  {
   "cell_type": "code",
   "execution_count": 3,
   "id": "184cce39-8072-419c-acee-f0b3190f6d45",
   "metadata": {},
   "outputs": [],
   "source": [
    "with open('example.txt', 'a') as file:\n",
    "    file.write('\\nAppend this line')"
   ]
  },
  {
   "cell_type": "markdown",
   "id": "de40027d-f5a6-4192-9157-2dcd99281ddd",
   "metadata": {},
   "source": [
    "### 4. To read a file line by line into a list"
   ]
  },
  {
   "cell_type": "code",
   "execution_count": 4,
   "id": "67610221-4d0d-4364-8c0f-c027679cb83e",
   "metadata": {},
   "outputs": [
    {
     "name": "stdout",
     "output_type": "stream",
     "text": [
      "['Hello!!!!\\n', 'Append this line']\n"
     ]
    }
   ],
   "source": [
    "with open('example.txt', 'r') as file:\n",
    "    lines = file.readlines()\n",
    "    print(lines)"
   ]
  },
  {
   "cell_type": "markdown",
   "id": "04f04d1b-2561-4328-92df-63929c6287f1",
   "metadata": {},
   "source": [
    "### 5. To process each line in a file"
   ]
  },
  {
   "cell_type": "code",
   "execution_count": 5,
   "id": "5e3cd55f-0fa7-4977-b763-a161f87729df",
   "metadata": {},
   "outputs": [
    {
     "name": "stdout",
     "output_type": "stream",
     "text": [
      "Hello!!!!\n",
      "Append this line\n"
     ]
    }
   ],
   "source": [
    "with open('example.txt','r') as file:\n",
    "    for line in file:\n",
    "        print(line.strip())"
   ]
  },
  {
   "cell_type": "markdown",
   "id": "f82b6478-8939-499e-b513-c688ab8e476b",
   "metadata": {},
   "source": [
    "### 6. To check if a file exists before performing file operations"
   ]
  },
  {
   "cell_type": "code",
   "execution_count": 6,
   "id": "59ef3db2-c615-4e6a-97a8-2c9562b04da8",
   "metadata": {},
   "outputs": [
    {
     "name": "stdout",
     "output_type": "stream",
     "text": [
      "File exists\n"
     ]
    }
   ],
   "source": [
    "import os\n",
    "if os.path.exists('example.txt'):\n",
    "    print('File exists')\n",
    "else:\n",
    "    print('File does not exists')"
   ]
  },
  {
   "cell_type": "markdown",
   "id": "c9b056d8-8583-4124-af08-f84f4096aef3",
   "metadata": {},
   "source": [
    "### 7. To write each element of a list to a new line in a file"
   ]
  },
  {
   "cell_type": "code",
   "execution_count": 7,
   "id": "b4d65a1f-6241-437b-8297-89002cd84762",
   "metadata": {},
   "outputs": [],
   "source": [
    "list = ['First','Second','Third']\n",
    "with open('example.txt', 'w') as file:\n",
    "    for item in list:\n",
    "        file.write(f'{item}\\n')"
   ]
  },
  {
   "cell_type": "markdown",
   "id": "860a8383-6690-4fa1-bdad-057096dd6828",
   "metadata": {},
   "source": [
    "### 8. To work with multiple files simultaneously using with blocks"
   ]
  },
  {
   "cell_type": "code",
   "execution_count": null,
   "id": "bc28cfd7-5714-4abb-8878-5323c1972794",
   "metadata": {},
   "outputs": [],
   "source": [
    "with open('source.txt', 'r') as source, open('destination.txt', 'w') as destination:\n",
    "    content = source.read()\n",
    "    destination.write(content)"
   ]
  },
  {
   "cell_type": "markdown",
   "id": "0554bb6f-9055-4b63-bc00-90b603bd6dc9",
   "metadata": {},
   "source": [
    "### 9. To safely delete a file if it exists"
   ]
  },
  {
   "cell_type": "code",
   "execution_count": 8,
   "id": "1c9f925c-c62a-42e0-9349-a0b8ba01e6b8",
   "metadata": {},
   "outputs": [
    {
     "name": "stdout",
     "output_type": "stream",
     "text": [
      "file deleted\n"
     ]
    }
   ],
   "source": [
    "import os\n",
    "if os.path.exists('example.txt'):\n",
    "    os.remove('example.txt')\n",
    "    print('file deleted')\n",
    "else:\n",
    "    print('file does not exists')"
   ]
  },
  {
   "cell_type": "markdown",
   "id": "cf3d571f-187a-4811-ab0c-3a0896c67187",
   "metadata": {},
   "source": [
    "### 10. To read from and write to a file in binary mode (useful for images, videos, etc)"
   ]
  },
  {
   "cell_type": "code",
   "execution_count": null,
   "id": "373cf827-969e-4197-a122-5941e5c06179",
   "metadata": {},
   "outputs": [],
   "source": [
    "# Reading a binary file\n",
    "with open('image.jpg', 'rb') as file:\n",
    "    content = file.read()\n",
    "    \n",
    "# Writing to a binary file\n",
    "with open('copy.jpg', 'wb') as file:\n",
    "    file.write(content)"
   ]
  },
  {
   "cell_type": "code",
   "execution_count": null,
   "id": "d4036782-3fad-410c-9687-c2fdc49de4d7",
   "metadata": {},
   "outputs": [],
   "source": []
  }
 ],
 "metadata": {
  "kernelspec": {
   "display_name": "Python 3 (ipykernel)",
   "language": "python",
   "name": "python3"
  },
  "language_info": {
   "codemirror_mode": {
    "name": "ipython",
    "version": 3
   },
   "file_extension": ".py",
   "mimetype": "text/x-python",
   "name": "python",
   "nbconvert_exporter": "python",
   "pygments_lexer": "ipython3",
   "version": "3.12.0"
  }
 },
 "nbformat": 4,
 "nbformat_minor": 5
}
