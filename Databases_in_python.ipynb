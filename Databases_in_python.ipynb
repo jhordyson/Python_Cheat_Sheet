{
 "cells": [
  {
   "cell_type": "markdown",
   "id": "1de33b10-baff-4579-b303-c4a31bf885a9",
   "metadata": {},
   "source": [
    "# Working with databases"
   ]
  },
  {
   "cell_type": "markdown",
   "id": "a8507d17-cda9-4a1d-9071-555050851dfe",
   "metadata": {},
   "source": [
    "### 1. To create a connection"
   ]
  },
  {
   "cell_type": "code",
   "execution_count": null,
   "id": "a50b8a1a-63f6-400a-9501-a87418fdf0ae",
   "metadata": {},
   "outputs": [],
   "source": [
    "# create a connection to a postgres db\n",
    "import psycopg2\n",
    "connection = psycopg2.connect(\n",
    "    dbname='your_database',\n",
    "    user='your_username',\n",
    "    password='your_password',\n",
    "    host='your_host'\n",
    ")"
   ]
  },
  {
   "cell_type": "markdown",
   "id": "c180c5c3-347f-4e2a-8c3f-2209c9e54c4c",
   "metadata": {},
   "source": [
    "### 2. To create a db cursor"
   ]
  },
  {
   "cell_type": "code",
   "execution_count": null,
   "id": "3f993d6a-1f82-4909-9881-01461ccf9be8",
   "metadata": {},
   "outputs": [],
   "source": [
    "cursor = connection.cursor()"
   ]
  },
  {
   "cell_type": "markdown",
   "id": "76444d32-ead3-40ac-924c-a964de7ed9e0",
   "metadata": {},
   "source": [
    "### 3. Execute a query"
   ]
  },
  {
   "cell_type": "code",
   "execution_count": null,
   "id": "affbaa00-71ca-4fd2-8c75-8c4ceb8bc8e6",
   "metadata": {},
   "outputs": [],
   "source": [
    "cursor.execute(\"select * from table\")"
   ]
  },
  {
   "cell_type": "markdown",
   "id": "7486de57-689a-49d9-b460-2c72f7f9d115",
   "metadata": {},
   "source": [
    "### 4. Fetching data"
   ]
  },
  {
   "cell_type": "code",
   "execution_count": null,
   "id": "5bf0973c-26b8-4422-9da1-f220574fd46a",
   "metadata": {},
   "outputs": [],
   "source": [
    "records = cursor.fetchall()\n",
    "for record in records:\n",
    "    print(record)"
   ]
  },
  {
   "cell_type": "markdown",
   "id": "ad49fcd6-bd4c-4a59-ac3f-ca48e4ac1489",
   "metadata": {},
   "source": [
    "### 5. To insert data"
   ]
  },
  {
   "cell_type": "code",
   "execution_count": null,
   "id": "352bdf00-f955-420e-b9bb-7643fc92b97c",
   "metadata": {},
   "outputs": [],
   "source": [
    "cursor.execute(\"INSERT INTO your_table (column1, column2) VALUES (%s, %s)\", ('value1', 'value2'))\n",
    "connection.commit()"
   ]
  },
  {
   "cell_type": "markdown",
   "id": "0cf05515-5277-4ad1-ae30-2717427bf77a",
   "metadata": {},
   "source": [
    "### 6. To update data"
   ]
  },
  {
   "cell_type": "code",
   "execution_count": null,
   "id": "78ad7a3c-7427-42d7-b1b3-4728aa1f2760",
   "metadata": {},
   "outputs": [],
   "source": [
    "cursor.execute(\"UPDATE your_table SET column1 = %s WHERE column2 = %s\", ('new_value', 'condition_value'))\n",
    "connection.commit()"
   ]
  },
  {
   "cell_type": "markdown",
   "id": "c6582881-c64b-4045-b915-70dd82c34cf8",
   "metadata": {},
   "source": [
    "### 7. To delete data"
   ]
  },
  {
   "cell_type": "code",
   "execution_count": null,
   "id": "ba85bdd1-f8fa-440a-bf06-af09d5fd0f94",
   "metadata": {},
   "outputs": [],
   "source": [
    "cursor.execute(\"DELETE FROM your_table WHERE condition_column = %s\", ('condition_value',))\n",
    "connection.commit()"
   ]
  },
  {
   "cell_type": "markdown",
   "id": "3422bcbf-8c3b-4edc-a488-468124fba6ee",
   "metadata": {},
   "source": [
    "### 8. To create a table"
   ]
  },
  {
   "cell_type": "code",
   "execution_count": null,
   "id": "720246f0-29b0-4b8f-89c0-492ac7b058d2",
   "metadata": {},
   "outputs": [],
   "source": [
    "cursor.execute(\"\"\"\n",
    "    CREATE TABLE your_new_table (\n",
    "        id SERIAL PRIMARY KEY,\n",
    "        column1 VARCHAR(255),\n",
    "        column2 INTEGER\n",
    "    )\n",
    "\"\"\")\n",
    "connection.commit()"
   ]
  },
  {
   "cell_type": "markdown",
   "id": "722b8f54-bf92-489a-a73b-705ac09a32f6",
   "metadata": {},
   "source": [
    "### 9. To drop a table"
   ]
  },
  {
   "cell_type": "code",
   "execution_count": null,
   "id": "f506d809-1042-4d19-bf87-aba3b8760088",
   "metadata": {},
   "outputs": [],
   "source": [
    "cursor.execute(\"DROP TABLE if exists your_table\")\n",
    "connection.commit()"
   ]
  },
  {
   "cell_type": "markdown",
   "id": "a0704934-2846-497e-bd26-94c7a09d509b",
   "metadata": {},
   "source": [
    "### 10. To use transactions"
   ]
  },
  {
   "cell_type": "code",
   "execution_count": null,
   "id": "027e2eee-5146-45d8-9a44-527f1361bd51",
   "metadata": {},
   "outputs": [],
   "source": [
    "try:\n",
    "    cursor.execute(\"your first transactional query\")\n",
    "    cursor.execute(\"your second transactional query\")\n",
    "    connection.commit()  # commit if all is well\n",
    "except Exception as e:\n",
    "    connection.rollback()  # rollback in case of any issue\n",
    "    print(f\"An error occurred: {e}\")"
   ]
  }
 ],
 "metadata": {
  "kernelspec": {
   "display_name": "Python 3 (ipykernel)",
   "language": "python",
   "name": "python3"
  },
  "language_info": {
   "codemirror_mode": {
    "name": "ipython",
    "version": 3
   },
   "file_extension": ".py",
   "mimetype": "text/x-python",
   "name": "python",
   "nbconvert_exporter": "python",
   "pygments_lexer": "ipython3",
   "version": "3.12.0"
  }
 },
 "nbformat": 4,
 "nbformat_minor": 5
}
