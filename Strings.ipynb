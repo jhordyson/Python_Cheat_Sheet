{
 "cells": [
  {
   "cell_type": "markdown",
   "id": "64effdd1-29d4-429a-a252-3c9dfa3aec5c",
   "metadata": {},
   "source": [
    "# Working with strings"
   ]
  },
  {
   "cell_type": "markdown",
   "id": "899aa7d0-2fcf-4d9e-9ef7-cb71d5e49ab3",
   "metadata": {},
   "source": [
    "### 1. Concatenating strings"
   ]
  },
  {
   "cell_type": "code",
   "execution_count": null,
   "id": "f6c1b5ea-5f15-4a26-af92-5f4bb9de9c0e",
   "metadata": {},
   "outputs": [],
   "source": [
    "greeting = \"Hello\"\n",
    "name = \"Alice\"\n",
    "message = greeting + \", \" + name + \"!\"\n",
    "print(message)"
   ]
  },
  {
   "cell_type": "markdown",
   "id": "6d9d3e64-57ef-4214-bd8d-d74c68f2f670",
   "metadata": {},
   "source": [
    "### 2. String formatting with str.format"
   ]
  },
  {
   "cell_type": "code",
   "execution_count": null,
   "id": "bbc6bba5-820a-4109-81ae-9904f8980f87",
   "metadata": {},
   "outputs": [],
   "source": [
    "message = \"{}, {}. Welcome!\".format(greeting, name)\n",
    "print(message)"
   ]
  },
  {
   "cell_type": "markdown",
   "id": "7b7f78f5-581c-4477-8aec-939ccf7ddf11",
   "metadata": {},
   "source": [
    "### 3. Formatted string literals (f strings)"
   ]
  },
  {
   "cell_type": "code",
   "execution_count": null,
   "id": "478f4504-0796-4e7f-b5f7-a03bed774dfb",
   "metadata": {},
   "outputs": [],
   "source": [
    "message = f\"{greeting}, {name}. Welcome!\"\n",
    "print(message)"
   ]
  },
  {
   "cell_type": "markdown",
   "id": "26076a94-5ea9-4372-8d39-bb9705dc3760",
   "metadata": {},
   "source": [
    "### 4. Case conversion"
   ]
  },
  {
   "cell_type": "code",
   "execution_count": null,
   "id": "fea37892-10f0-47da-af9f-5be24496afb3",
   "metadata": {},
   "outputs": [],
   "source": [
    "s = \"Python\"\n",
    "print(s.upper())  # Uppercase\n",
    "print(s.lower())  # Lowercase\n",
    "print(s.title())  # Title Case"
   ]
  },
  {
   "cell_type": "markdown",
   "id": "6715b690-d1af-455f-98f5-114bee66e312",
   "metadata": {},
   "source": [
    "### 5. Remove whitespace"
   ]
  },
  {
   "cell_type": "code",
   "execution_count": null,
   "id": "1c8f16eb-2656-40a9-b7e5-008e78103f83",
   "metadata": {},
   "outputs": [],
   "source": [
    "s = \"   trim me   \"\n",
    "print(s.strip())   # Both ends\n",
    "print(s.rstrip())  # Right end\n",
    "print(s.lstrip())  # Left end"
   ]
  },
  {
   "cell_type": "markdown",
   "id": "96fc4fa1-fd5b-46d5-b83b-5ba585e6ed94",
   "metadata": {},
   "source": [
    "### 6. Check the start or end"
   ]
  },
  {
   "cell_type": "code",
   "execution_count": null,
   "id": "18191424-c679-49c2-affe-cf51e6ec7b91",
   "metadata": {},
   "outputs": [],
   "source": [
    "s = \"filename.txt\"\n",
    "print(s.startswith(\"file\"))  # True\n",
    "print(s.endswith(\".txt\"))    # True"
   ]
  },
  {
   "cell_type": "markdown",
   "id": "32205a3f-d986-4d25-a6d7-1cf52129723e",
   "metadata": {},
   "source": [
    "### 7. Split into a list or join a list into a string"
   ]
  },
  {
   "cell_type": "code",
   "execution_count": null,
   "id": "598c4341-b880-4f9a-9fe8-bfe3229365b0",
   "metadata": {},
   "outputs": [],
   "source": [
    "s = \"split,this,string\"\n",
    "words = s.split(\",\")        # Split string into list\n",
    "joined = \" \".join(words)    # Join list into string\n",
    "print(words)\n",
    "print(joined)"
   ]
  },
  {
   "cell_type": "markdown",
   "id": "1705e98b-04b0-45b4-9181-a312e5b0c577",
   "metadata": {},
   "source": [
    "### 8. To replace"
   ]
  },
  {
   "cell_type": "code",
   "execution_count": null,
   "id": "514b2aaa-0108-4642-8abd-ab0463d76222",
   "metadata": {},
   "outputs": [],
   "source": [
    "s = \"Hello world\"\n",
    "new_s = s.replace(\"world\", \"Python\")\n",
    "print(new_s)"
   ]
  },
  {
   "cell_type": "markdown",
   "id": "291f7643-711b-4213-9800-21fad8e5996d",
   "metadata": {},
   "source": [
    "### 9. To find the position of a substring"
   ]
  },
  {
   "cell_type": "code",
   "execution_count": null,
   "id": "5c953b07-4cdf-4904-8b04-204e443d04a3",
   "metadata": {},
   "outputs": [],
   "source": [
    "s = \"look for a substring\"\n",
    "position = s.find(\"substring\")  # Returns -1 if not found\n",
    "index = s.index(\"substring\")    # Raises ValueError if not found\n",
    "print(position)\n",
    "print(index)"
   ]
  },
  {
   "cell_type": "markdown",
   "id": "f270956a-71a6-42fc-b8e7-9ce499bd1edc",
   "metadata": {},
   "source": [
    "### 10. To work with characteres"
   ]
  },
  {
   "cell_type": "code",
   "execution_count": null,
   "id": "64806b56-8d15-4db1-9bfa-e194cf740f57",
   "metadata": {},
   "outputs": [],
   "source": [
    "s = \"characters\"\n",
    "for char in s:\n",
    "    print(char)  # Prints each character on a new line"
   ]
  },
  {
   "cell_type": "markdown",
   "id": "6c700180-647d-4d66-a0de-6f62f9035a8d",
   "metadata": {},
   "source": [
    "### 11. To check a string"
   ]
  },
  {
   "cell_type": "code",
   "execution_count": null,
   "id": "b470b139-4f88-4470-9287-a577052b75f1",
   "metadata": {},
   "outputs": [],
   "source": [
    "print(\"123\".isdigit())   # True\n",
    "print(\"abc\".isalpha())   # True\n",
    "print(\"abc123\".isalnum())# True"
   ]
  },
  {
   "cell_type": "markdown",
   "id": "d75499f5-9ffb-453e-a12d-68795e5afe3f",
   "metadata": {},
   "source": [
    "### 12. To slice"
   ]
  },
  {
   "cell_type": "code",
   "execution_count": null,
   "id": "44cad35a-5b78-4db1-a70a-0d0f6c0efbcf",
   "metadata": {},
   "outputs": [],
   "source": [
    "s = \"slice me\"\n",
    "sub = s[2:7]  # From 3rd to 7th character\n",
    "print(sub)"
   ]
  },
  {
   "cell_type": "markdown",
   "id": "92389287-b988-4493-9fca-cad46f315135",
   "metadata": {},
   "source": [
    "### 13. To get a length"
   ]
  },
  {
   "cell_type": "code",
   "execution_count": null,
   "id": "df9f8a2b-457c-4403-a92d-f430f489f300",
   "metadata": {},
   "outputs": [],
   "source": [
    "s = \"length\"\n",
    "print(len(s))  # 6"
   ]
  }
 ],
 "metadata": {
  "kernelspec": {
   "display_name": "Python 3 (ipykernel)",
   "language": "python",
   "name": "python3"
  },
  "language_info": {
   "codemirror_mode": {
    "name": "ipython",
    "version": 3
   },
   "file_extension": ".py",
   "mimetype": "text/x-python",
   "name": "python",
   "nbconvert_exporter": "python",
   "pygments_lexer": "ipython3",
   "version": "3.12.0"
  }
 },
 "nbformat": 4,
 "nbformat_minor": 5
}
