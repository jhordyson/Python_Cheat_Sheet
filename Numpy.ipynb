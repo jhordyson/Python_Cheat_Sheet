{
 "cells": [
  {
   "cell_type": "markdown",
   "id": "6f600871-9c0e-45b2-9dcd-b5c5743e28bd",
   "metadata": {},
   "source": [
    "# Working with numpy (arrays)"
   ]
  },
  {
   "cell_type": "markdown",
   "id": "4fbedf9b-9bc3-47a3-804c-40f7e06fbe46",
   "metadata": {},
   "source": [
    "### 1. To create an array"
   ]
  },
  {
   "cell_type": "code",
   "execution_count": null,
   "id": "8368601f-5b8a-4f43-ac8b-e8f7e66b0bf1",
   "metadata": {},
   "outputs": [],
   "source": [
    "import numpy as np\n",
    "array = np.array([1, 2, 3, 4, 5])"
   ]
  },
  {
   "cell_type": "markdown",
   "id": "ae7455bd-113b-4774-9314-8622faf615ff",
   "metadata": {},
   "source": [
    "### 2. To create an array filled with zeros"
   ]
  },
  {
   "cell_type": "code",
   "execution_count": null,
   "id": "9d0c1d57-00d5-4509-a313-52944e689578",
   "metadata": {},
   "outputs": [],
   "source": [
    "zeros = np.zeros((3, 3))  # a 3x3 array of zeros\n",
    "ones = np.ones((2, 4))  # a 2x4 array of ones"
   ]
  },
  {
   "cell_type": "markdown",
   "id": "c7dc4c2f-f673-4f3c-bc49-65748db8b915",
   "metadata": {},
   "source": [
    "### 3. To create a linearly spaced array"
   ]
  },
  {
   "cell_type": "code",
   "execution_count": null,
   "id": "b283486c-3239-4208-bc29-daadb02419b3",
   "metadata": {},
   "outputs": [],
   "source": [
    "linear_spaced = np.linspace(0, 1, 5)  # 5 values from 0 to 1"
   ]
  },
  {
   "cell_type": "markdown",
   "id": "a81e4cb2-3b32-4b17-90ee-7b071d242704",
   "metadata": {},
   "source": [
    "### 4. To create a range of numbers"
   ]
  },
  {
   "cell_type": "code",
   "execution_count": null,
   "id": "66f49b0b-d6b4-4098-ac22-d48adf2311df",
   "metadata": {},
   "outputs": [],
   "source": [
    "range_array = np.arange(10, 50, 5)  # From 10 to 50, step by 5"
   ]
  },
  {
   "cell_type": "markdown",
   "id": "19913b4a-0845-45df-8c9b-3a9646853d33",
   "metadata": {},
   "source": [
    "### 5. To reshape an array"
   ]
  },
  {
   "cell_type": "code",
   "execution_count": null,
   "id": "c145c89a-5040-4c31-96ce-14dafad8a714",
   "metadata": {},
   "outputs": [],
   "source": [
    "reshaped = np.arange(9).reshape(3, 3)  # reshape a 1D array into a 3x3 2D array"
   ]
  },
  {
   "cell_type": "markdown",
   "id": "f95a590d-1cef-4be4-988e-b00e2546f687",
   "metadata": {},
   "source": [
    "### 6. Basic array operations"
   ]
  },
  {
   "cell_type": "code",
   "execution_count": null,
   "id": "1d4735a1-200f-4c2d-b9f3-893559f41c2c",
   "metadata": {},
   "outputs": [],
   "source": [
    "a = np.array([1, 2, 3])\n",
    "b = np.array([4, 5, 6])\n",
    "sum = a + b  # element-wise addition\n",
    "difference = b - a  # element-wise subtraction\n",
    "product = a * b  # element-wise multiplication"
   ]
  },
  {
   "cell_type": "markdown",
   "id": "d03882a8-fefd-46b8-a3d0-65b49497b6f5",
   "metadata": {},
   "source": [
    "### 7. Matrix multiplication"
   ]
  },
  {
   "cell_type": "code",
   "execution_count": null,
   "id": "d0bc1311-10db-4ecb-9081-75cb43ea2843",
   "metadata": {},
   "outputs": [],
   "source": [
    "result = np.dot(a.reshape(1, 3), b.reshape(3, 1))  # dot product of a and b"
   ]
  },
  {
   "cell_type": "markdown",
   "id": "737033ab-c6b9-45b4-aac1-19f4e4bc63dd",
   "metadata": {},
   "source": [
    "### 8. Accessing array elements"
   ]
  },
  {
   "cell_type": "code",
   "execution_count": null,
   "id": "47d9210d-a891-488d-9ae9-d614d29d3ca0",
   "metadata": {},
   "outputs": [],
   "source": [
    "element = a[2]  # retrieve the third element of array 'a'\n",
    "row = reshaped[1, :]  # retrieve the second row of 'reshaped'"
   ]
  },
  {
   "cell_type": "markdown",
   "id": "b0f3eb97-9caa-437f-96f7-805d55a2cb63",
   "metadata": {},
   "source": [
    "### 9. Boolean index"
   ]
  },
  {
   "cell_type": "code",
   "execution_count": null,
   "id": "525af64c-d369-48fa-b853-52f68d99fbdb",
   "metadata": {},
   "outputs": [],
   "source": [
    "filtered = a[a > 2] # elements of 'a' greater than 2"
   ]
  },
  {
   "cell_type": "markdown",
   "id": "c0422799-92ce-4304-bf48-6e88c0a9111b",
   "metadata": {},
   "source": [
    "### 10. Statistical operations"
   ]
  },
  {
   "cell_type": "code",
   "execution_count": null,
   "id": "d3c176c4-7310-4ab1-a039-4274094efa99",
   "metadata": {},
   "outputs": [],
   "source": [
    "mean = np.mean(a)\n",
    "maximum = np.max(a)\n",
    "sum = np.sum(a)"
   ]
  }
 ],
 "metadata": {
  "kernelspec": {
   "display_name": "Python 3 (ipykernel)",
   "language": "python",
   "name": "python3"
  },
  "language_info": {
   "codemirror_mode": {
    "name": "ipython",
    "version": 3
   },
   "file_extension": ".py",
   "mimetype": "text/x-python",
   "name": "python",
   "nbconvert_exporter": "python",
   "pygments_lexer": "ipython3",
   "version": "3.12.0"
  }
 },
 "nbformat": 4,
 "nbformat_minor": 5
}
