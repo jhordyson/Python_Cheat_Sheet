{
 "cells": [
  {
   "cell_type": "markdown",
   "id": "1c21e561-8ae5-4ab1-b318-4668d0712767",
   "metadata": {},
   "source": [
    "# Working with matplotlib (Data visualization)"
   ]
  },
  {
   "cell_type": "markdown",
   "id": "845b2c06-33c9-4802-80e6-0200919de3a5",
   "metadata": {},
   "source": [
    "### 1. To create a plot visualization"
   ]
  },
  {
   "cell_type": "code",
   "execution_count": null,
   "id": "49649a7f-e41c-4e5f-9bb7-8d56bfed4191",
   "metadata": {},
   "outputs": [],
   "source": [
    "import matplotlib.pyplot as plt\n",
    "x = [1, 2, 3, 4, 5]\n",
    "y = [1, 4, 9, 16, 25]\n",
    "plt.plot(x, y)\n",
    "plt.show()"
   ]
  },
  {
   "cell_type": "markdown",
   "id": "e96e655c-9c16-4d90-80f7-941c74a0ae9c",
   "metadata": {},
   "source": [
    "### 2. To add titles and labels"
   ]
  },
  {
   "cell_type": "code",
   "execution_count": null,
   "id": "8ae303b3-b4ea-4ddc-9376-a1edf281d6f1",
   "metadata": {},
   "outputs": [],
   "source": [
    "plt.plot(x, y)\n",
    "plt.title('Growth Over Time')\n",
    "plt.xlabel('Time')\n",
    "plt.ylabel('Growth')\n",
    "plt.show()"
   ]
  },
  {
   "cell_type": "markdown",
   "id": "bb5072f3-5916-4471-a5bb-4daca9438082",
   "metadata": {},
   "source": [
    "### 3. To create scatter plot"
   ]
  },
  {
   "cell_type": "code",
   "execution_count": null,
   "id": "56798e5e-d1f1-4fd7-95b8-e7468be78c98",
   "metadata": {},
   "outputs": [],
   "source": [
    "plt.scatter(x, y)\n",
    "plt.show()"
   ]
  },
  {
   "cell_type": "markdown",
   "id": "9a62fa1c-d92a-4202-96e5-7b49e188dcfb",
   "metadata": {},
   "source": [
    "### 4. To customize line and markers"
   ]
  },
  {
   "cell_type": "code",
   "execution_count": null,
   "id": "788a4d76-3cd7-4e37-956c-bfd3f8debbef",
   "metadata": {},
   "outputs": [],
   "source": [
    "plt.plot(x, y, linestyle='--', marker='o', color='b')\n",
    "plt.show()"
   ]
  },
  {
   "cell_type": "markdown",
   "id": "3373413f-682b-4fbd-ad8d-4306edb488f0",
   "metadata": {},
   "source": [
    "### 5. To create multiple plots on the same axes"
   ]
  },
  {
   "cell_type": "code",
   "execution_count": null,
   "id": "644ac81f-178c-4b78-b740-c1d8e9af0416",
   "metadata": {},
   "outputs": [],
   "source": [
    "z = [2, 3, 4, 5, 6]\n",
    "plt.plot(x, y)\n",
    "plt.plot(x, z)\n",
    "plt.show()"
   ]
  },
  {
   "cell_type": "markdown",
   "id": "86f26a39-cd2f-41b7-80f8-651d221527a6",
   "metadata": {},
   "source": [
    "### 6. To create subplots"
   ]
  },
  {
   "cell_type": "code",
   "execution_count": null,
   "id": "62bb8906-818e-4d4a-8f74-244100ca7058",
   "metadata": {},
   "outputs": [],
   "source": [
    "fig, ax = plt.subplots(2, 1)  # 2 rows, 1 column\n",
    "ax[0].plot(x, y)\n",
    "ax[1].plot(x, z)\n",
    "plt.show()"
   ]
  },
  {
   "cell_type": "markdown",
   "id": "5be5bc5f-0075-43c3-8eac-2b27f960c1a2",
   "metadata": {},
   "source": [
    "### 7. To create a histogram"
   ]
  },
  {
   "cell_type": "code",
   "execution_count": null,
   "id": "2ce79d16-6dfb-4acf-967b-29d1a51368e8",
   "metadata": {},
   "outputs": [],
   "source": [
    "data = [1, 2, 2, 3, 3, 3, 4, 4, 4, 4]\n",
    "plt.hist(data, bins=4)\n",
    "plt.show()"
   ]
  },
  {
   "cell_type": "markdown",
   "id": "7cde1411-38ab-4969-b9e7-8119a1ad1cb5",
   "metadata": {},
   "source": [
    "### 8. To create a legend"
   ]
  },
  {
   "cell_type": "code",
   "execution_count": null,
   "id": "199c2f6e-76d5-4419-956a-00563e2a051f",
   "metadata": {},
   "outputs": [],
   "source": [
    "plt.plot(x, y, label='Growth')\n",
    "plt.plot(x, z, label='Decay')\n",
    "plt.legend()\n",
    "plt.show()"
   ]
  },
  {
   "cell_type": "markdown",
   "id": "adc793c4-254d-4fdb-bfe3-010f0080b169",
   "metadata": {},
   "source": [
    "### 9. To customize ticks"
   ]
  },
  {
   "cell_type": "code",
   "execution_count": null,
   "id": "87c0c499-6a5c-4e0e-9bf7-bd1f3caf9a9d",
   "metadata": {},
   "outputs": [],
   "source": [
    "plt.plot(x, y)\n",
    "plt.xticks([1, 2, 3, 4, 5], ['One', 'Two', 'Three', 'Four', 'Five'])\n",
    "plt.yticks([0, 5, 10, 15, 20, 25], ['0', '5', '10', '15', '20', '25+'])\n",
    "plt.show()"
   ]
  },
  {
   "cell_type": "markdown",
   "id": "b9e6e079-1fc9-41b6-b39e-e6d284d99599",
   "metadata": {},
   "source": [
    "### 10. To save the plot as .png"
   ]
  },
  {
   "cell_type": "code",
   "execution_count": null,
   "id": "8705609f-dcbc-499f-b78b-1c6f05947bdf",
   "metadata": {},
   "outputs": [],
   "source": [
    "plt.plot(x, y)\n",
    "plt.savefig('growth_over_time.png')"
   ]
  }
 ],
 "metadata": {
  "kernelspec": {
   "display_name": "Python 3 (ipykernel)",
   "language": "python",
   "name": "python3"
  },
  "language_info": {
   "codemirror_mode": {
    "name": "ipython",
    "version": 3
   },
   "file_extension": ".py",
   "mimetype": "text/x-python",
   "name": "python",
   "nbconvert_exporter": "python",
   "pygments_lexer": "ipython3",
   "version": "3.12.0"
  }
 },
 "nbformat": 4,
 "nbformat_minor": 5
}
