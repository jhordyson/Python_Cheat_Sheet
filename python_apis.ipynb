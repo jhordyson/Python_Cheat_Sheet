{
 "cells": [
  {
   "cell_type": "markdown",
   "id": "53aad9bd-0c76-4fac-bb7f-ce3339b292a9",
   "metadata": {},
   "source": [
    "# Working with simple HTTP APIs"
   ]
  },
  {
   "cell_type": "markdown",
   "id": "83c7f703-1812-41e9-83bf-8996db80d253",
   "metadata": {},
   "source": [
    "### 1. To fecth data from an API endpoint using a GET request"
   ]
  },
  {
   "cell_type": "code",
   "execution_count": null,
   "id": "b9a21e87-88bb-48c0-9d30-68b3c39ad271",
   "metadata": {},
   "outputs": [],
   "source": [
    "import requests\n",
    "response = requests.get('https://api.example.com/data')\n",
    "data = response.json() #Assuming the response is JSON\n",
    "print(data)"
   ]
  },
  {
   "cell_type": "markdown",
   "id": "af2c1f5c-5d6a-4fb2-aba1-645ee53d06c1",
   "metadata": {},
   "source": [
    "### 2. To send a GET request with query parameters"
   ]
  },
  {
   "cell_type": "code",
   "execution_count": null,
   "id": "6540b8ef-8d6e-47c0-a848-bc5c5ffbf7db",
   "metadata": {},
   "outputs": [],
   "source": [
    "import requests\n",
    "params = {'key1':'value1', 'key2':'value2'}\n",
    "response = requests.get('https://api.example.com/search', params = params)\n",
    "data = response.json()\n",
    "print(data)"
   ]
  },
  {
   "cell_type": "markdown",
   "id": "a668f997-6ccb-45e5-bf24-642f124ce0f8",
   "metadata": {},
   "source": [
    "### 3. To handle possible HTTP errors gracefully"
   ]
  },
  {
   "cell_type": "code",
   "execution_count": null,
   "id": "b2c09006-6bf3-4881-95b1-b6d2210cba0a",
   "metadata": {},
   "outputs": [],
   "source": [
    "import requests\n",
    "response = requests.get('https://api.example.com/data')\n",
    "try:\n",
    "    response.raise_for_status() # Raises an HTTPError if the status is 4xx, 5xx\n",
    "    data = response.json()\n",
    "    print(data)\n",
    "except requests.exceptions.HTTPError as err:\n",
    "    print(f'HTTP Error: {err}')"
   ]
  },
  {
   "cell_type": "markdown",
   "id": "ab34b9cb-6f80-4d73-a404-c1016442b5c1",
   "metadata": {},
   "source": [
    "### 4. To set a timeout for API requests to avoid hanging indefinitely"
   ]
  },
  {
   "cell_type": "code",
   "execution_count": null,
   "id": "499652e1-fe29-42ba-84c7-461df283d254",
   "metadata": {},
   "outputs": [],
   "source": [
    "import requests\n",
    "try:\n",
    "    response = requests.get('https://api.example.com/data', timeout=5)  # Timeout in seconds\n",
    "    data = response.json()\n",
    "    print(data)\n",
    "except requests.exceptions.Timeout:\n",
    "    print('The request timed out')"
   ]
  },
  {
   "cell_type": "markdown",
   "id": "e67af69d-e3cf-458c-924b-9bef3780cb8b",
   "metadata": {},
   "source": [
    "### 5. To include headers in your request (e.g. for authorization)"
   ]
  },
  {
   "cell_type": "code",
   "execution_count": null,
   "id": "85b0784e-ba5b-4a6e-a812-d5dbf43eb426",
   "metadata": {},
   "outputs": [],
   "source": [
    "import requests\n",
    "headers = {'Authorization': 'Bearer YOUR_ACCESS_TOKEN'}\n",
    "response = requests.get('https://api.example.com/protected', headers=headers)\n",
    "data = response.json()\n",
    "print(data)"
   ]
  },
  {
   "cell_type": "markdown",
   "id": "9bf5faa5-106f-437f-b632-df9645ff71ab",
   "metadata": {},
   "source": [
    "### 6. To send data to an API endpoint using a POST request with a JSON payload"
   ]
  },
  {
   "cell_type": "code",
   "execution_count": null,
   "id": "f5b61538-4a4f-40e3-80d7-afe5b87b9a1f",
   "metadata": {},
   "outputs": [],
   "source": [
    "import requests\n",
    "payload = {'key1': 'value1', 'key2': 'value2'}\n",
    "headers = {'Content-Type': 'application/json'}\n",
    "response = requests.post('https://api.example.com/submit', json=payload, headers=headers)\n",
    "print(response.json())"
   ]
  },
  {
   "cell_type": "markdown",
   "id": "4e81f0e6-dc06-4032-9b86-5281d16cd205",
   "metadata": {},
   "source": [
    "### 7. To handle the response encoding properly"
   ]
  },
  {
   "cell_type": "code",
   "execution_count": null,
   "id": "5e042ff5-7846-4e3f-99e8-fd25e2ac1426",
   "metadata": {},
   "outputs": [],
   "source": [
    "import requests\n",
    "response = requests.get('https://api.example.com/data')\n",
    "response.encoding = 'utf-8'  # Set encoding to match the expected response format\n",
    "data = response.text\n",
    "print(data)"
   ]
  },
  {
   "cell_type": "markdown",
   "id": "165d7f95-51c4-499a-9633-5041ab947591",
   "metadata": {},
   "source": [
    "### 8. To use a session object for making multiple requests to the same host, which can improve performance"
   ]
  },
  {
   "cell_type": "code",
   "execution_count": null,
   "id": "e3521b19-4555-4992-b80d-93addf7009f3",
   "metadata": {},
   "outputs": [],
   "source": [
    "import requests\n",
    "with requests.Session() as session:\n",
    "    session.headers.update({'Authorization': 'Bearer YOUR_ACCESS_TOKEN'})\n",
    "    response = session.get('https://api.example.com/data')\n",
    "    print(response.json())"
   ]
  },
  {
   "cell_type": "markdown",
   "id": "f72e4aed-ba1f-45f9-9a64-23af0621feca",
   "metadata": {},
   "source": [
    "### 9. To handle or disable redirects in requests"
   ]
  },
  {
   "cell_type": "code",
   "execution_count": null,
   "id": "e62c41ab-c4a3-483e-bedd-75ca348b5fcf",
   "metadata": {},
   "outputs": [],
   "source": [
    "import requests\n",
    "response = requests.get('https://api.example.com/data', allow_redirects=False)\n",
    "print(response.status_code)"
   ]
  },
  {
   "cell_type": "markdown",
   "id": "df6b8d4c-4a0f-4e06-9aa0-ca3bd37993b4",
   "metadata": {},
   "source": [
    "### 10. To stream a large response to process it in chunks, rather than loading it all into memory"
   ]
  },
  {
   "cell_type": "code",
   "execution_count": null,
   "id": "0a427a69-ffe5-43fd-8adb-b0b2b7fe6d8a",
   "metadata": {},
   "outputs": [],
   "source": [
    "import requests\n",
    "response = requests.get('https://api.example.com/large-data', stream=True)\n",
    "for chunk in response.iter_content(chunk_size=1024):\n",
    "    process(chunk)  # Replace 'process' with your actual processing function"
   ]
  }
 ],
 "metadata": {
  "kernelspec": {
   "display_name": "Python 3 (ipykernel)",
   "language": "python",
   "name": "python3"
  },
  "language_info": {
   "codemirror_mode": {
    "name": "ipython",
    "version": 3
   },
   "file_extension": ".py",
   "mimetype": "text/x-python",
   "name": "python",
   "nbconvert_exporter": "python",
   "pygments_lexer": "ipython3",
   "version": "3.12.0"
  }
 },
 "nbformat": 4,
 "nbformat_minor": 5
}
