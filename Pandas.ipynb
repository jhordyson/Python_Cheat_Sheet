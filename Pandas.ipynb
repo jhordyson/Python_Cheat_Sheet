{
 "cells": [
  {
   "cell_type": "markdown",
   "id": "1d61097b-fd61-4c19-a1ad-aa741d4a046a",
   "metadata": {},
   "source": [
    "# Work with pandas (dataframes)"
   ]
  },
  {
   "cell_type": "markdown",
   "id": "ed2a6674-6a70-4779-bea9-7fc0db6d895e",
   "metadata": {},
   "source": [
    "### 1. To create a dataframe"
   ]
  },
  {
   "cell_type": "code",
   "execution_count": null,
   "id": "c8893909-d223-4b64-b0ab-948e5cac80ff",
   "metadata": {},
   "outputs": [],
   "source": [
    "import pandas as pd\n",
    "data = {\n",
    "    'nickname':['qwerty','ares','kirito','akanae'],\n",
    "    'lvl':['newbie','warlord','ancient','chaos']\n",
    "}\n",
    "df = pd.DataFrame(data)"
   ]
  },
  {
   "cell_type": "markdown",
   "id": "c02025ce-3641-45d2-b3dd-d80193a625da",
   "metadata": {},
   "source": [
    "### 2. To read data from csv file"
   ]
  },
  {
   "cell_type": "code",
   "execution_count": null,
   "id": "e1ca7f70-5f20-447a-8656-c883f12df096",
   "metadata": {},
   "outputs": [],
   "source": [
    "df = pd.read_csv('info.csv')"
   ]
  },
  {
   "cell_type": "markdown",
   "id": "d664a5e9-46db-47de-914e-b60dc949df66",
   "metadata": {},
   "source": [
    "### 3. To get first rows from dataframe"
   ]
  },
  {
   "cell_type": "code",
   "execution_count": null,
   "id": "fa29abbb-8223-4ec0-bc8a-5d676322d939",
   "metadata": {},
   "outputs": [],
   "source": [
    "print(df.head())"
   ]
  },
  {
   "cell_type": "markdown",
   "id": "d5cddbcd-4eab-4949-bf12-195dbbe4df28",
   "metadata": {},
   "source": [
    "### 4. To select specific columns"
   ]
  },
  {
   "cell_type": "code",
   "execution_count": null,
   "id": "9f5e00be-9698-47b8-9e98-d0ba35b0c9bb",
   "metadata": {},
   "outputs": [],
   "source": [
    "nicknames = df['nickname']"
   ]
  },
  {
   "cell_type": "markdown",
   "id": "4994aec5-1c46-42a8-9a6e-36ee08f30160",
   "metadata": {},
   "source": [
    "### 5. To filter rows"
   ]
  },
  {
   "cell_type": "code",
   "execution_count": null,
   "id": "16436bd9-58c2-4aaa-8bff-db3235e4cd0b",
   "metadata": {},
   "outputs": [],
   "source": [
    "newbie_lvl = df[df['lvl'] == 'newbie']"
   ]
  },
  {
   "cell_type": "markdown",
   "id": "2a32d19a-32ab-4766-8cf8-3b9bac0c9bdd",
   "metadata": {},
   "source": [
    "### 6. To create new columns"
   ]
  },
  {
   "cell_type": "code",
   "execution_count": null,
   "id": "61cc8d63-f5b0-48b8-950b-781334109f02",
   "metadata": {},
   "outputs": [],
   "source": [
    "df['length'] = df['nickname'].apply(len)"
   ]
  },
  {
   "cell_type": "markdown",
   "id": "c2615f43-286d-4772-bbab-015978554384",
   "metadata": {},
   "source": [
    "### 7. To group and aggregate data"
   ]
  },
  {
   "cell_type": "code",
   "execution_count": null,
   "id": "bde6c99d-0e88-40b3-9dec-3ee81f8ed5f9",
   "metadata": {},
   "outputs": [],
   "source": [
    "groups = df.groupby('lvl').agg({'length': 'mean'})"
   ]
  },
  {
   "cell_type": "markdown",
   "id": "4137b3d9-9773-4416-9bac-31f6220a6fa3",
   "metadata": {},
   "source": [
    "### 8. To merge dataframes"
   ]
  },
  {
   "cell_type": "code",
   "execution_count": null,
   "id": "cba228ea-cc04-48aa-9ccd-4441527f5d33",
   "metadata": {},
   "outputs": [],
   "source": [
    "df2 = pd.DataFrame({'nickname': ['Shaker', 'firefist'], 'weapon': ['axe', 'fist']})\n",
    "merged_df = pd.merge(df, df2, how='outer', on='nickname')"
   ]
  },
  {
   "cell_type": "markdown",
   "id": "677e81f9-5aae-4dba-90ef-9f0dc2e3e957",
   "metadata": {},
   "source": [
    "### 9. To clean the dataframe"
   ]
  },
  {
   "cell_type": "code",
   "execution_count": null,
   "id": "72abd2ec-1361-47f7-b5ea-754514ae5d4e",
   "metadata": {},
   "outputs": [],
   "source": [
    "df.fillna(value = 'unknown', inplace = True)"
   ]
  },
  {
   "cell_type": "markdown",
   "id": "d6238651-92d2-43eb-bb8e-ecd3847f0e72",
   "metadata": {},
   "source": [
    "### 10. Pivoting and reshaping data"
   ]
  },
  {
   "cell_type": "code",
   "execution_count": null,
   "id": "769c020b-5c99-40e1-89b7-bcda907815fd",
   "metadata": {},
   "outputs": [],
   "source": [
    "pivoted_df = df.pivot(index = 'nickname', columns = 'lvl', values = 'length')"
   ]
  }
 ],
 "metadata": {
  "kernelspec": {
   "display_name": "Python 3 (ipykernel)",
   "language": "python",
   "name": "python3"
  },
  "language_info": {
   "codemirror_mode": {
    "name": "ipython",
    "version": 3
   },
   "file_extension": ".py",
   "mimetype": "text/x-python",
   "name": "python",
   "nbconvert_exporter": "python",
   "pygments_lexer": "ipython3",
   "version": "3.12.0"
  }
 },
 "nbformat": 4,
 "nbformat_minor": 5
}
