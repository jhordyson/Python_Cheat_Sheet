{
 "cells": [
  {
   "cell_type": "markdown",
   "id": "5b922065-dd23-49d4-a254-af7f8a1b4ef6",
   "metadata": {},
   "source": [
    "# Working with lists"
   ]
  },
  {
   "cell_type": "markdown",
   "id": "f271bb73-c410-4dff-8b75-2fec87ff7b4b",
   "metadata": {},
   "source": [
    "### 1. To create a list"
   ]
  },
  {
   "cell_type": "code",
   "execution_count": null,
   "id": "e03579e1-9385-4d27-9a5c-6e5b3fefd505",
   "metadata": {},
   "outputs": [],
   "source": [
    "# A list of a peruvian dish\n",
    "ceviche = ['lemon','onion','fish','chili']"
   ]
  },
  {
   "cell_type": "markdown",
   "id": "2d1f17c9-3d0b-4227-9e52-3fee2fd8086e",
   "metadata": {},
   "source": [
    "### 2. To append a new item to the ende of a list"
   ]
  },
  {
   "cell_type": "code",
   "execution_count": null,
   "id": "3f97419b-36c0-4f7c-8f81-fde2cd378f20",
   "metadata": {},
   "outputs": [],
   "source": [
    "ceviche.append('sweet potato')"
   ]
  },
  {
   "cell_type": "markdown",
   "id": "8c8a083d-7745-4ed9-ac61-c2f3318567af",
   "metadata": {},
   "source": [
    "### 3. To insert an item at a specific position in the list"
   ]
  },
  {
   "cell_type": "code",
   "execution_count": null,
   "id": "bc0ecb30-baf4-4181-914a-62546ae6953f",
   "metadata": {},
   "outputs": [],
   "source": [
    "# insert at index 1\n",
    "ceviche.insert(1,'potato')"
   ]
  },
  {
   "cell_type": "markdown",
   "id": "068ad629-d190-4e07-817a-c1137b2ec70e",
   "metadata": {},
   "source": [
    "### 4. To remove an item by value from the list"
   ]
  },
  {
   "cell_type": "code",
   "execution_count": null,
   "id": "3d51c1e7-a81c-4d82-bb28-5e6ad6478ba9",
   "metadata": {},
   "outputs": [],
   "source": [
    "# removes the first occurrence of 'potato'\n",
    "ceviche.remove('potato')"
   ]
  },
  {
   "cell_type": "markdown",
   "id": "3c7d8ecb-3986-4158-b5fd-8ff3ed505eb6",
   "metadata": {},
   "source": [
    "### 5. To remove and return an item at a given index (default is the last item)"
   ]
  },
  {
   "cell_type": "code",
   "execution_count": null,
   "id": "21300d0b-412f-4143-9e2f-56cd7d8601ae",
   "metadata": {},
   "outputs": [],
   "source": [
    "# removes and returns the last item\n",
    "last_item = ceviche.pop()"
   ]
  },
  {
   "cell_type": "markdown",
   "id": "bfb9f1de-205f-435d-bc0d-b55596a684b0",
   "metadata": {},
   "source": [
    "### 6. To find the index of the first occurrence of an item"
   ]
  },
  {
   "cell_type": "code",
   "execution_count": null,
   "id": "af1d93b9-8e0e-4751-88f2-055a69854444",
   "metadata": {},
   "outputs": [],
   "source": [
    "index_item = ceviche.index('onion')"
   ]
  },
  {
   "cell_type": "markdown",
   "id": "adaf7d8b-3c77-44a6-8ee7-ef97e47f5db0",
   "metadata": {},
   "source": [
    "### 7. To slice a list, obtaining a sub-list"
   ]
  },
  {
   "cell_type": "code",
   "execution_count": null,
   "id": "971fcc2d-50a9-4371-bb5c-7d752f0f9421",
   "metadata": {},
   "outputs": [],
   "source": [
    "# Get items from index 2 to 4\n",
    "items = ceviche[2:5]"
   ]
  },
  {
   "cell_type": "markdown",
   "id": "70fca0d9-e5ae-4a5c-a301-7b0272e10083",
   "metadata": {},
   "source": [
    "### 8. To create a new list by applying an expression to each item of an existing one"
   ]
  },
  {
   "cell_type": "code",
   "execution_count": null,
   "id": "d2b674f6-8128-40db-bfa4-bb5b06d53605",
   "metadata": {},
   "outputs": [],
   "source": [
    "# Create a new list with lengths of each item\n",
    "lengths = [len(item) for item in ceviche]"
   ]
  },
  {
   "cell_type": "markdown",
   "id": "bac6a9ac-1131-4a67-8e50-f0cb3c81bd14",
   "metadata": {},
   "source": [
    "### 9. To sort a list in ascending order (in-place)"
   ]
  },
  {
   "cell_type": "code",
   "execution_count": null,
   "id": "510568ea-66e0-4226-8da1-6655bf547d64",
   "metadata": {},
   "outputs": [],
   "source": [
    "ceviche.sort()"
   ]
  },
  {
   "cell_type": "markdown",
   "id": "430ee9fc-c138-4917-b799-f09ff9a0fa97",
   "metadata": {},
   "source": [
    "### 10. To reverse the items of a list in-place"
   ]
  },
  {
   "cell_type": "code",
   "execution_count": null,
   "id": "994c7774-f606-4423-9472-45452f898be8",
   "metadata": {},
   "outputs": [],
   "source": [
    "ceviche.reverse()"
   ]
  }
 ],
 "metadata": {
  "kernelspec": {
   "display_name": "Python 3 (ipykernel)",
   "language": "python",
   "name": "python3"
  },
  "language_info": {
   "codemirror_mode": {
    "name": "ipython",
    "version": 3
   },
   "file_extension": ".py",
   "mimetype": "text/x-python",
   "name": "python",
   "nbconvert_exporter": "python",
   "pygments_lexer": "ipython3",
   "version": "3.12.0"
  }
 },
 "nbformat": 4,
 "nbformat_minor": 5
}
