{
 "cells": [
  {
   "cell_type": "markdown",
   "id": "5862d79b-84ca-46ca-a7a2-845328c864b1",
   "metadata": {},
   "source": [
    "# Working with decorators"
   ]
  },
  {
   "cell_type": "markdown",
   "id": "88a4bf86-1e97-41d0-9331-a7b6e2c21018",
   "metadata": {},
   "source": [
    "### 1. Basic decorator"
   ]
  },
  {
   "cell_type": "code",
   "execution_count": null,
   "id": "80063413-7b95-4c9c-bace-48476d51abfc",
   "metadata": {},
   "outputs": [],
   "source": [
    "def my_decorator(func):\n",
    "    def wrapper():\n",
    "        print(\"Something is happening before the function is called.\")\n",
    "        func()\n",
    "        print(\"Something is happening after the function is called.\")\n",
    "    return wrapper\n",
    "\n",
    "@my_decorator\n",
    "def say_hello():\n",
    "    print(\"Hello!\")\n",
    "\n",
    "say_hello()"
   ]
  },
  {
   "cell_type": "markdown",
   "id": "ffeac7bf-33f2-4ea4-a68d-a8d9cc7f570f",
   "metadata": {},
   "source": [
    "### 2. Decorator with arguments"
   ]
  },
  {
   "cell_type": "code",
   "execution_count": null,
   "id": "11fd4589-fe2b-4c8e-8da2-65f5b7f19edd",
   "metadata": {},
   "outputs": [],
   "source": [
    "def my_decorator(func):\n",
    "    def wrapper(*args, **kwargs):\n",
    "        print(\"Before call\")\n",
    "        result = func(*args, **kwargs)\n",
    "        print(\"After call\")\n",
    "        return result\n",
    "    return wrapper\n",
    "\n",
    "@my_decorator\n",
    "def greet(name):\n",
    "    print(f\"Hello {name}\")\n",
    "\n",
    "greet(\"Alice\")"
   ]
  },
  {
   "cell_type": "markdown",
   "id": "c97fb044-c27c-46e3-9338-9e0863fa8b78",
   "metadata": {},
   "source": [
    "### 3. Using functools.wraps"
   ]
  },
  {
   "cell_type": "code",
   "execution_count": null,
   "id": "ec046388-ffca-4dc5-93d5-21b7861e9271",
   "metadata": {},
   "outputs": [],
   "source": [
    "from functools import wraps\n",
    "\n",
    "def my_decorator(func):\n",
    "    @wraps(func)\n",
    "    def wrapper(*args, **kwargs):\n",
    "        \"\"\"Wrapper function\"\"\"\n",
    "        return func(*args, **kwargs)\n",
    "    return wrapper\n",
    "\n",
    "@my_decorator\n",
    "def greet(name):\n",
    "    \"\"\"Greet someone\"\"\"\n",
    "    print(f\"Hello {name}\")\n",
    "\n",
    "print(greet.__name__)  # Outputs: 'greet'\n",
    "print(greet.__doc__)   # Outputs: 'Greet someone'"
   ]
  },
  {
   "cell_type": "markdown",
   "id": "d858ceb2-fc26-43fd-89c5-00646972f661",
   "metadata": {},
   "source": [
    "### 4. Class decorator"
   ]
  },
  {
   "cell_type": "code",
   "execution_count": null,
   "id": "be20f2da-892a-43f8-bddb-ab34f98600fe",
   "metadata": {},
   "outputs": [],
   "source": [
    "class MyDecorator:\n",
    "    def __init__(self, func):\n",
    "        self.func = func\n",
    "   def __call__(self, *args, **kwargs):\n",
    "        print(\"Before call\")\n",
    "        self.func(*args, **kwargs)\n",
    "        print(\"After call\")\n",
    "\n",
    "@MyDecorator\n",
    "def greet(name):\n",
    "    print(f\"Hello {name}\")\n",
    "\n",
    "greet(\"Alice\")"
   ]
  },
  {
   "cell_type": "markdown",
   "id": "2711b402-c9bf-4b7d-8432-540b7f8a81b2",
   "metadata": {},
   "source": [
    "### 5. To create a decorator that accepts its own arguments"
   ]
  },
  {
   "cell_type": "code",
   "execution_count": null,
   "id": "cdaa886c-75c0-4678-94b6-d1c8896634a7",
   "metadata": {},
   "outputs": [],
   "source": [
    "def repeat(times):\n",
    "    def decorator(func):\n",
    "        @wraps(func)\n",
    "        def wrapper(*args, **kwargs):\n",
    "            for _ in range(times):\n",
    "                func(*args, **kwargs)\n",
    "        return wrapper\n",
    "    return decorator\n",
    "\n",
    "@repeat(3)\n",
    "def say_hello():\n",
    "    print(\"Hello\")\n",
    "\n",
    "say_hello()"
   ]
  },
  {
   "cell_type": "markdown",
   "id": "1bc0d078-0841-4140-abd8-6a96cbeb3acf",
   "metadata": {},
   "source": [
    "### 6. Method decorator"
   ]
  },
  {
   "cell_type": "code",
   "execution_count": null,
   "id": "60b7e37d-4f15-45cd-a967-8223ff531e30",
   "metadata": {},
   "outputs": [],
   "source": [
    "def method_decorator(func):\n",
    "    @wraps(func)\n",
    "    def wrapper(self, *args, **kwargs):\n",
    "        print(\"Method Decorator\")\n",
    "        return func(self, *args, **kwargs)\n",
    "    return wrapper\n",
    "\n",
    "class MyClass:\n",
    "    @method_decorator\n",
    "    def greet(self, name):\n",
    "        print(f\"Hello {name}\")\n",
    "\n",
    "obj = MyClass()\n",
    "obj.greet(\"Alice\")"
   ]
  },
  {
   "cell_type": "markdown",
   "id": "d81542cb-abd4-403d-af03-840aa7c6548d",
   "metadata": {},
   "source": [
    "### 7. Stacking decorators"
   ]
  },
  {
   "cell_type": "code",
   "execution_count": null,
   "id": "d23fb02b-9242-439f-b92c-746910038f22",
   "metadata": {},
   "outputs": [],
   "source": [
    "@my_decorator\n",
    "@repeat(2)\n",
    "def greet(name):\n",
    "    print(f\"Hello {name}\")\n",
    "\n",
    "greet(\"Alice\")"
   ]
  },
  {
   "cell_type": "markdown",
   "id": "6182a6e2-ad45-4db2-a59c-f69927ffa130",
   "metadata": {},
   "source": [
    "### 8. Decorator with optional arguments"
   ]
  },
  {
   "cell_type": "code",
   "execution_count": null,
   "id": "ed055322-4442-45cb-8beb-f4f63a0ccb2a",
   "metadata": {},
   "outputs": [],
   "source": [
    "def smart_decorator(arg=None):\n",
    "    def decorator(func):\n",
    "        @wraps(func)\n",
    "        def wrapper(*args, **kwargs):\n",
    "            if arg:\n",
    "                print(f\"Argument: {arg}\")\n",
    "            return func(*args, **kwargs)\n",
    "        return wrapper\n",
    "    if callable(arg):\n",
    "        return decorator(arg)\n",
    "    return decorator\n",
    "\n",
    "@smart_decorator\n",
    "def no_args():\n",
    "    print(\"No args\")\n",
    "\n",
    "@smart_decorator(\"With args\")\n",
    "def with_args():\n",
    "    print(\"With args\")\n",
    "\n",
    "no_args()\n",
    "with_args()"
   ]
  },
  {
   "cell_type": "markdown",
   "id": "ad4bd04f-6273-4344-ab58-78413af83f81",
   "metadata": {},
   "source": [
    "### 9. Class method decorator"
   ]
  },
  {
   "cell_type": "code",
   "execution_count": null,
   "id": "d9ea7029-a29a-42bf-b435-ef81ac470217",
   "metadata": {},
   "outputs": [],
   "source": [
    "class MyClass:\n",
    "    @classmethod\n",
    "    @my_decorator\n",
    "    def class_method(cls):\n",
    "        print(\"Class method called\")\n",
    "\n",
    "MyClass.class_method()"
   ]
  },
  {
   "cell_type": "markdown",
   "id": "af052efd-0d2c-4857-ac6a-07f0e6b79009",
   "metadata": {},
   "source": [
    "### 10. Decorator for static method"
   ]
  },
  {
   "cell_type": "code",
   "execution_count": null,
   "id": "f090b344-ef53-44df-bc6b-0033ba94ac85",
   "metadata": {},
   "outputs": [],
   "source": [
    "class MyClass:\n",
    "    @staticmethod\n",
    "    @my_decorator\n",
    "    def static_method():\n",
    "        print(\"Static method called\")\n",
    "\n",
    "MyClass.static_method()"
   ]
  }
 ],
 "metadata": {
  "kernelspec": {
   "display_name": "Python 3 (ipykernel)",
   "language": "python",
   "name": "python3"
  },
  "language_info": {
   "codemirror_mode": {
    "name": "ipython",
    "version": 3
   },
   "file_extension": ".py",
   "mimetype": "text/x-python",
   "name": "python",
   "nbconvert_exporter": "python",
   "pygments_lexer": "ipython3",
   "version": "3.12.0"
  }
 },
 "nbformat": 4,
 "nbformat_minor": 5
}
