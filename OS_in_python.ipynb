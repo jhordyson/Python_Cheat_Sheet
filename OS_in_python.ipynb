{
 "cells": [
  {
   "cell_type": "markdown",
   "id": "4e6c952a-62aa-4b0e-9ac0-28bbccb82557",
   "metadata": {},
   "source": [
    "# Working with OS"
   ]
  },
  {
   "cell_type": "markdown",
   "id": "a47a9b1a-44bb-4893-8ee7-e041ac748c34",
   "metadata": {},
   "source": [
    "### 1. To navigating file paths"
   ]
  },
  {
   "cell_type": "code",
   "execution_count": null,
   "id": "11dc27c8-289a-4d77-a132-b39a7f51c2df",
   "metadata": {},
   "outputs": [],
   "source": [
    "import os\n",
    "path = os.path.join('books','sci-fi','dune.txt')\n",
    "directory = os.path.dirname(path)\n",
    "book_name = os.path.basename(path)\n",
    "print(f'path = {path} \\ndirectory = {directory} \\nbook_name = {book_name}')"
   ]
  },
  {
   "cell_type": "markdown",
   "id": "4b15bba4-6201-4532-bb8a-f63ee508e90a",
   "metadata": {},
   "source": [
    "### 2. To listing directory contents "
   ]
  },
  {
   "cell_type": "code",
   "execution_count": null,
   "id": "70d8e736-dfd4-49a8-8c32-0b1eebacbdbd",
   "metadata": {},
   "outputs": [],
   "source": [
    "import os\n",
    "contents = os.listdir('books')\n",
    "print(books) #print a list that contains items from 'books' directory"
   ]
  },
  {
   "cell_type": "markdown",
   "id": "74477cf3-cbc3-40ee-9f90-e16080dc488e",
   "metadata": {},
   "source": [
    "### 3. To create directories"
   ]
  },
  {
   "cell_type": "code",
   "execution_count": null,
   "id": "7fb27603-60cd-4b6d-b0c3-55392475fa51",
   "metadata": {},
   "outputs": [],
   "source": [
    "import os\n",
    "os.mkdir('literature') #create a single directory\n",
    "os.mkdir('literature/books/sci-fi') #create a hierachy of directories"
   ]
  },
  {
   "cell_type": "markdown",
   "id": "ad20a9d0-552a-4b63-90cd-1b8d153aac1c",
   "metadata": {},
   "source": [
    "### 4. To remove files and directories"
   ]
  },
  {
   "cell_type": "code",
   "execution_count": null,
   "id": "62f0add9-509e-4b1a-82fa-ead8a7f08a3c",
   "metadata": {},
   "outputs": [],
   "source": [
    "import os\n",
    "os.remove('unnecessary.txt') #remove a file\n",
    "os.rmdir('abandonet') #remove an empty directory\n",
    "import shutil\n",
    "shutil.rmtree('books') #remove a directory and its contents"
   ]
  },
  {
   "cell_type": "markdown",
   "id": "c8421f73-3755-417a-be30-1107a6098ad1",
   "metadata": {},
   "source": [
    "### 5. To execute shell commands"
   ]
  },
  {
   "cell_type": "code",
   "execution_count": null,
   "id": "3f36ca65-6300-4df9-be5c-afa5a1eca383",
   "metadata": {},
   "outputs": [],
   "source": [
    "import subprocess\n",
    "# using the 'echo' command\n",
    "result = subprocess.run(['echo', 'HELLO!!'], capture_output = True, text = True, shell = True)\n",
    "print(result.stdout)"
   ]
  },
  {
   "cell_type": "markdown",
   "id": "10dbbe40-79a6-4e3b-95fc-05925cad151d",
   "metadata": {},
   "source": [
    "### 6. To work with environment variables"
   ]
  },
  {
   "cell_type": "code",
   "execution_count": null,
   "id": "fabc381b-4117-4e14-b848-714fed543cf6",
   "metadata": {},
   "outputs": [],
   "source": [
    "import os\n",
    "# read the 'PATH' variable\n",
    "path = os.environ.get('PATH')\n",
    "# create a new environment variable\n",
    "os.environ['JAPAN'] = 'Murakami'  "
   ]
  },
  {
   "cell_type": "markdown",
   "id": "564c1335-17b5-4fec-9982-5cfcf5be5d50",
   "metadata": {},
   "source": [
    "### 7. To change the current working directory"
   ]
  },
  {
   "cell_type": "code",
   "execution_count": null,
   "id": "12ca1d91-872a-450d-88a9-ef13d03eded8",
   "metadata": {},
   "outputs": [],
   "source": [
    "import os\n",
    "# traverse to the 'Murakami_books' directory\n",
    "os.chdir('Murakami_books')"
   ]
  },
  {
   "cell_type": "markdown",
   "id": "ae3ef5a5-1102-4c2f-883d-b031f57b9186",
   "metadata": {},
   "source": [
    "### 8. To know path existence and type"
   ]
  },
  {
   "cell_type": "code",
   "execution_count": null,
   "id": "6769d6cc-eb20-4028-aa90-45e973d89ccf",
   "metadata": {},
   "outputs": [],
   "source": [
    "import os\n",
    "# check if a path exists\n",
    "exists = os.path.exists('mysterious_books')\n",
    "# ascertain if the path is a directory\n",
    "is_directory = os.path.isdir('mysterious_books')\n",
    "# determine if the path is a file\n",
    "is_file = os.path.isfile('voynich_manuscript.txt')"
   ]
  },
  {
   "cell_type": "markdown",
   "id": "38eb93c7-0e1d-40c5-b290-1615b3b4635a",
   "metadata": {},
   "source": [
    "### 9. To work with temporary files"
   ]
  },
  {
   "cell_type": "code",
   "execution_count": null,
   "id": "184d18ee-7332-4918-b428-052c2f4ee9d0",
   "metadata": {},
   "outputs": [],
   "source": [
    "import tempfile\n",
    "# create a temporary file\n",
    "temp_file = tempfile.NamedTemporaryFile(delete=False) # the argument 'delete=false' indicates thta you must delete manually\n",
    "print(temp_file.name)\n",
    "# create a temporary directory\n",
    "temp_dir = tempfile.TemporaryDirectory()\n",
    "print(temp_dir.name)"
   ]
  },
  {
   "cell_type": "markdown",
   "id": "db165e81-72fa-43bf-9b89-08746455d01e",
   "metadata": {},
   "source": [
    "### 10. To get system information"
   ]
  },
  {
   "cell_type": "code",
   "execution_count": null,
   "id": "0a8f5c8b-5581-4a6c-a21b-3ff452b760f7",
   "metadata": {},
   "outputs": [],
   "source": [
    "import os\n",
    "import platform\n",
    "# discover the operating system\n",
    "os_name = os.name  # 'posix', 'nt', 'java'\n",
    "# unearth detailed system information\n",
    "system_info = platform.system()  # 'Linux', 'Windows', 'Darwin'"
   ]
  }
 ],
 "metadata": {
  "kernelspec": {
   "display_name": "Python 3 (ipykernel)",
   "language": "python",
   "name": "python3"
  },
  "language_info": {
   "codemirror_mode": {
    "name": "ipython",
    "version": 3
   },
   "file_extension": ".py",
   "mimetype": "text/x-python",
   "name": "python",
   "nbconvert_exporter": "python",
   "pygments_lexer": "ipython3",
   "version": "3.12.0"
  }
 },
 "nbformat": 4,
 "nbformat_minor": 5
}
